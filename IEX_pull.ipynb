{
 "cells": [
  {
   "cell_type": "code",
   "execution_count": 1,
   "id": "c84165b1-3e4a-4c19-bed4-2120a3c63f44",
   "metadata": {},
   "outputs": [
    {
     "name": "stdout",
     "output_type": "stream",
     "text": [
      "Requirement already satisfied: pandas in ./opt/anaconda3/envs/dev/lib/python3.10/site-packages (1.5.2)\n",
      "Requirement already satisfied: requests in ./opt/anaconda3/envs/dev/lib/python3.10/site-packages (2.28.1)\n",
      "Requirement already satisfied: python-dateutil>=2.8.1 in ./opt/anaconda3/envs/dev/lib/python3.10/site-packages (from pandas) (2.8.2)\n",
      "Requirement already satisfied: pytz>=2020.1 in ./opt/anaconda3/envs/dev/lib/python3.10/site-packages (from pandas) (2022.7)\n",
      "Requirement already satisfied: numpy>=1.21.0 in ./opt/anaconda3/envs/dev/lib/python3.10/site-packages (from pandas) (1.21.5)\n",
      "Requirement already satisfied: certifi>=2017.4.17 in ./opt/anaconda3/envs/dev/lib/python3.10/site-packages (from requests) (2022.12.7)\n",
      "Requirement already satisfied: urllib3<1.27,>=1.21.1 in ./opt/anaconda3/envs/dev/lib/python3.10/site-packages (from requests) (1.26.14)\n",
      "Requirement already satisfied: charset-normalizer<3,>=2 in ./opt/anaconda3/envs/dev/lib/python3.10/site-packages (from requests) (2.0.4)\n",
      "Requirement already satisfied: idna<4,>=2.5 in ./opt/anaconda3/envs/dev/lib/python3.10/site-packages (from requests) (3.4)\n",
      "Requirement already satisfied: six>=1.5 in ./opt/anaconda3/envs/dev/lib/python3.10/site-packages (from python-dateutil>=2.8.1->pandas) (1.16.0)\n",
      "Note: you may need to restart the kernel to use updated packages.\n"
     ]
    }
   ],
   "source": [
    "pip install pandas requests\n"
   ]
  },
  {
   "cell_type": "code",
   "execution_count": 2,
   "id": "5c4cca78-4e02-4f8d-b985-b2da16e26581",
   "metadata": {},
   "outputs": [
    {
     "name": "stdout",
     "output_type": "stream",
     "text": [
      "       open   close     high      low    volume symbol\n",
      "0    326.82  322.65  326.900  320.120   1536818     GS\n",
      "1     47.01   46.09   47.020   45.645  15542410      C\n",
      "2     87.00   84.82   87.200   84.260   6222831     MS\n",
      "3    130.50  128.42  130.590  127.410  11579916    JPM\n",
      "4     28.55   27.98   28.650   27.660  56233295    BAC\n",
      "..      ...     ...      ...      ...       ...    ...\n",
      "101   39.47   39.54   39.570   39.350  31518729    EEM\n",
      "102   48.85   48.95   48.989   48.710   8609025   IEMG\n",
      "103   72.09   72.10   72.320   71.885  15364637    EFA\n",
      "104  250.56  245.77  250.780  244.410   1336224    IJH\n",
      "105  378.19  375.43  378.400  374.130   2713278    VOO\n",
      "\n",
      "[106 rows x 6 columns]\n"
     ]
    }
   ],
   "source": [
    "import os\n",
    "import requests\n",
    "import pandas as pd\n",
    "\n",
    "\n",
    "IEX_API_TOKEN = 'pk_8c8bff848e484ad89b66c46d29d4f42e'\n",
    "\n",
    "# List of 6 stock symbols\n",
    "stocks = ['GS', 'C', 'MS', 'JPM', 'BAC', 'WFC']\n",
    "\n",
    "# List of 100 ETF symbols (replace this with the actual symbols you want)\n",
    "etfs = ['SPY', 'QQQ', 'VTI', 'VWO', 'IEFA', 'EEM', 'IEMG', 'EFA', 'IJH', 'VOO'] * 10\n",
    "\n",
    "symbols = stocks + etfs\n",
    "\n",
    "base_url = 'https://cloud.iexapis.com/stable/stock'\n",
    "fields = ['open', 'close', 'high', 'low', 'volume']\n",
    "\n",
    "data = []\n",
    "\n",
    "for symbol in symbols:\n",
    "    url = f'{base_url}/{symbol}/quote?token={IEX_API_TOKEN}&filter={\",\".join(fields)}'\n",
    "    response = requests.get(url)\n",
    "\n",
    "    if response.status_code == 200:\n",
    "        quote_data = response.json()\n",
    "        quote_data['symbol'] = symbol\n",
    "        data.append(quote_data)\n",
    "    else:\n",
    "        print(f'Error fetching data for {symbol}: {response.status_code}')\n",
    "\n",
    "df = pd.DataFrame(data)\n",
    "\n",
    "print(df)\n"
   ]
  },
  {
   "cell_type": "code",
   "execution_count": 3,
   "id": "6e92f8af-c34c-4e3c-9dd9-837669a619f2",
   "metadata": {},
   "outputs": [
    {
     "data": {
      "text/html": [
       "<div>\n",
       "<style scoped>\n",
       "    .dataframe tbody tr th:only-of-type {\n",
       "        vertical-align: middle;\n",
       "    }\n",
       "\n",
       "    .dataframe tbody tr th {\n",
       "        vertical-align: top;\n",
       "    }\n",
       "\n",
       "    .dataframe thead th {\n",
       "        text-align: right;\n",
       "    }\n",
       "</style>\n",
       "<table border=\"1\" class=\"dataframe\">\n",
       "  <thead>\n",
       "    <tr style=\"text-align: right;\">\n",
       "      <th></th>\n",
       "      <th>open</th>\n",
       "      <th>close</th>\n",
       "      <th>high</th>\n",
       "      <th>low</th>\n",
       "      <th>volume</th>\n",
       "      <th>symbol</th>\n",
       "    </tr>\n",
       "  </thead>\n",
       "  <tbody>\n",
       "    <tr>\n",
       "      <th>101</th>\n",
       "      <td>39.47</td>\n",
       "      <td>39.54</td>\n",
       "      <td>39.570</td>\n",
       "      <td>39.350</td>\n",
       "      <td>31518729</td>\n",
       "      <td>EEM</td>\n",
       "    </tr>\n",
       "    <tr>\n",
       "      <th>102</th>\n",
       "      <td>48.85</td>\n",
       "      <td>48.95</td>\n",
       "      <td>48.989</td>\n",
       "      <td>48.710</td>\n",
       "      <td>8609025</td>\n",
       "      <td>IEMG</td>\n",
       "    </tr>\n",
       "    <tr>\n",
       "      <th>103</th>\n",
       "      <td>72.09</td>\n",
       "      <td>72.10</td>\n",
       "      <td>72.320</td>\n",
       "      <td>71.885</td>\n",
       "      <td>15364637</td>\n",
       "      <td>EFA</td>\n",
       "    </tr>\n",
       "    <tr>\n",
       "      <th>104</th>\n",
       "      <td>250.56</td>\n",
       "      <td>245.77</td>\n",
       "      <td>250.780</td>\n",
       "      <td>244.410</td>\n",
       "      <td>1336224</td>\n",
       "      <td>IJH</td>\n",
       "    </tr>\n",
       "    <tr>\n",
       "      <th>105</th>\n",
       "      <td>378.19</td>\n",
       "      <td>375.43</td>\n",
       "      <td>378.400</td>\n",
       "      <td>374.130</td>\n",
       "      <td>2713278</td>\n",
       "      <td>VOO</td>\n",
       "    </tr>\n",
       "  </tbody>\n",
       "</table>\n",
       "</div>"
      ],
      "text/plain": [
       "       open   close     high      low    volume symbol\n",
       "101   39.47   39.54   39.570   39.350  31518729    EEM\n",
       "102   48.85   48.95   48.989   48.710   8609025   IEMG\n",
       "103   72.09   72.10   72.320   71.885  15364637    EFA\n",
       "104  250.56  245.77  250.780  244.410   1336224    IJH\n",
       "105  378.19  375.43  378.400  374.130   2713278    VOO"
      ]
     },
     "execution_count": 3,
     "metadata": {},
     "output_type": "execute_result"
    }
   ],
   "source": [
    "df.head()\n",
    "df.tail()\n"
   ]
  },
  {
   "cell_type": "code",
   "execution_count": null,
   "id": "d5203dfb-6573-4fa2-8907-bd98633ff4c5",
   "metadata": {},
   "outputs": [],
   "source": []
  },
  {
   "cell_type": "code",
   "execution_count": null,
   "id": "6d96bc04-7e30-4d68-87c8-6fb75aefb199",
   "metadata": {},
   "outputs": [],
   "source": []
  },
  {
   "cell_type": "code",
   "execution_count": null,
   "id": "5eb4c4fb-829e-426b-a6f2-ae9299486c08",
   "metadata": {},
   "outputs": [],
   "source": []
  }
 ],
 "metadata": {
  "kernelspec": {
   "display_name": "dev",
   "language": "python",
   "name": "dev"
  },
  "language_info": {
   "codemirror_mode": {
    "name": "ipython",
    "version": 3
   },
   "file_extension": ".py",
   "mimetype": "text/x-python",
   "name": "python",
   "nbconvert_exporter": "python",
   "pygments_lexer": "ipython3",
   "version": "3.10.4"
  }
 },
 "nbformat": 4,
 "nbformat_minor": 5
}
