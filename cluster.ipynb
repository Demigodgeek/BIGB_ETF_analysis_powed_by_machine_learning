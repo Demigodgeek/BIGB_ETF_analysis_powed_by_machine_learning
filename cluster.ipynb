{
 "cells": [
  {
   "cell_type": "markdown",
   "id": "1daa0381-0387-4a35-afe3-54d920948999",
   "metadata": {},
   "source": [
    "### Clustering"
   ]
  },
  {
   "cell_type": "code",
   "execution_count": 31,
   "id": "a1557e0b-3986-4367-aef1-bcdcb7663f1e",
   "metadata": {
    "tags": []
   },
   "outputs": [],
   "source": [
    "# Import Libraries and dependancies \n",
    "import pandas as pd\n",
    "import numpy as np\n",
    "import hvplot.pandas\n",
    "import yahoo_fin.stock_info as si\n",
    "import yfinance as yf\n",
    "import pyfolio as pf\n",
    "from scipy.spatial.distance import cdist\n",
    "from pathlib import Path\n",
    "from sklearn.cluster import KMeans\n",
    "from sklearn.decomposition import PCA\n",
    "from sklearn.preprocessing import StandardScaler\n",
    "from prophet import Prophet\n",
    "from datetime import datetime, timedelta\n",
    "import warnings\n",
    "warnings.filterwarnings(\"ignore\") "
   ]
  },
  {
   "cell_type": "code",
   "execution_count": 32,
   "id": "cc452ef1-2de2-448e-b015-66b23cb32413",
   "metadata": {},
   "outputs": [],
   "source": [
    "# 6 big banks\n",
    "stocks = ['GS', 'C', 'MS', 'JPM', 'BAC', 'WFC']"
   ]
  },
  {
   "cell_type": "code",
   "execution_count": 33,
   "id": "e8f4245e-b527-42c3-a3ce-13d4669a6bb8",
   "metadata": {
    "tags": []
   },
   "outputs": [],
   "source": [
    "#pulls 3yrs of date history from today\n",
    "date_range = '3y' \n",
    "\n",
    "end_date = datetime.now()\n",
    "if date_range == '3y':\n",
    "    start_date = end_date - timedelta(days=3 * 365)\n",
    "else:\n",
    "    raise ValueError(\"Invalid date range. Use '3y' for 3 years of historical data.\")\n",
    "\n",
    "start_date_str = start_date.strftime('%Y-%m-%d')\n",
    "end_date_str = end_date.strftime('%Y-%m-%d')"
   ]
  },
  {
   "cell_type": "code",
   "execution_count": 34,
   "id": "8d56dcf0-1071-4559-880f-d1cadd1d084d",
   "metadata": {},
   "outputs": [],
   "source": [
    "# empty data set, that has a loop to pull historical data for 3yrs, then adds all data to symbol column\n",
    "data = []\n",
    "\n",
    "for symbol in stocks:\n",
    "    ticker = yf.Ticker(symbol)\n",
    "    historical_data = ticker.history(start=start_date_str, end=end_date_str, interval='1d')[['Open', 'Close', 'High', 'Low', 'Volume']]\n",
    "\n",
    "    if not historical_data.empty:\n",
    "        historical_data['Symbol'] = symbol\n",
    "        data.append(historical_data)\n",
    "    else:\n",
    "        print(f'Error data pull for {symbol}')\n",
    "\n",
    "df = pd.concat(data)\n",
    "\n",
    "# Filter the DataFrame to include only the 6 stocks\n",
    "stocks_df = df[df['Symbol'].isin(stocks)]"
   ]
  },
  {
   "cell_type": "code",
   "execution_count": 35,
   "id": "50619b9a-1f0f-491e-aa1d-9f70a7d4e4b3",
   "metadata": {},
   "outputs": [],
   "source": [
    "# Group the stocks by date and then calculate the mean of OHLCV\n",
    "BIGBportfolio = stocks_df.groupby(stocks_df.index).mean()"
   ]
  },
  {
   "cell_type": "code",
   "execution_count": 36,
   "id": "04cb81d3-55b3-49b6-ba2d-0a4835b05749",
   "metadata": {},
   "outputs": [
    {
     "data": {
      "text/html": [
       "<div>\n",
       "<style scoped>\n",
       "    .dataframe tbody tr th:only-of-type {\n",
       "        vertical-align: middle;\n",
       "    }\n",
       "\n",
       "    .dataframe tbody tr th {\n",
       "        vertical-align: top;\n",
       "    }\n",
       "\n",
       "    .dataframe thead th {\n",
       "        text-align: right;\n",
       "    }\n",
       "</style>\n",
       "<table border=\"1\" class=\"dataframe\">\n",
       "  <thead>\n",
       "    <tr style=\"text-align: right;\">\n",
       "      <th></th>\n",
       "      <th>Syn_Open</th>\n",
       "      <th>Syn_Close</th>\n",
       "      <th>Syn_High</th>\n",
       "      <th>Syn_Low</th>\n",
       "      <th>Sy_Volume</th>\n",
       "    </tr>\n",
       "    <tr>\n",
       "      <th>Date</th>\n",
       "      <th></th>\n",
       "      <th></th>\n",
       "      <th></th>\n",
       "      <th></th>\n",
       "      <th></th>\n",
       "    </tr>\n",
       "  </thead>\n",
       "  <tbody>\n",
       "    <tr>\n",
       "      <th>2020-04-07 00:00:00-04:00</th>\n",
       "      <td>61.265570</td>\n",
       "      <td>59.333583</td>\n",
       "      <td>61.895276</td>\n",
       "      <td>58.652256</td>\n",
       "      <td>3.601082e+07</td>\n",
       "    </tr>\n",
       "    <tr>\n",
       "      <th>2020-04-08 00:00:00-04:00</th>\n",
       "      <td>60.435955</td>\n",
       "      <td>62.850933</td>\n",
       "      <td>63.258856</td>\n",
       "      <td>59.926762</td>\n",
       "      <td>3.330760e+07</td>\n",
       "    </tr>\n",
       "    <tr>\n",
       "      <th>2020-04-09 00:00:00-04:00</th>\n",
       "      <td>64.575197</td>\n",
       "      <td>66.678173</td>\n",
       "      <td>67.973065</td>\n",
       "      <td>64.341217</td>\n",
       "      <td>5.029647e+07</td>\n",
       "    </tr>\n",
       "    <tr>\n",
       "      <th>2020-04-13 00:00:00-04:00</th>\n",
       "      <td>66.641232</td>\n",
       "      <td>64.433064</td>\n",
       "      <td>66.858292</td>\n",
       "      <td>64.004479</td>\n",
       "      <td>3.203900e+07</td>\n",
       "    </tr>\n",
       "    <tr>\n",
       "      <th>2020-04-14 00:00:00-04:00</th>\n",
       "      <td>65.841082</td>\n",
       "      <td>63.506972</td>\n",
       "      <td>66.286077</td>\n",
       "      <td>61.946370</td>\n",
       "      <td>4.308287e+07</td>\n",
       "    </tr>\n",
       "    <tr>\n",
       "      <th>...</th>\n",
       "      <td>...</td>\n",
       "      <td>...</td>\n",
       "      <td>...</td>\n",
       "      <td>...</td>\n",
       "      <td>...</td>\n",
       "    </tr>\n",
       "    <tr>\n",
       "      <th>2023-03-31 00:00:00-04:00</th>\n",
       "      <td>108.645060</td>\n",
       "      <td>109.512546</td>\n",
       "      <td>109.687507</td>\n",
       "      <td>108.056113</td>\n",
       "      <td>2.070217e+07</td>\n",
       "    </tr>\n",
       "    <tr>\n",
       "      <th>2023-04-03 00:00:00-04:00</th>\n",
       "      <td>109.381402</td>\n",
       "      <td>109.307741</td>\n",
       "      <td>110.391083</td>\n",
       "      <td>108.397048</td>\n",
       "      <td>1.858058e+07</td>\n",
       "    </tr>\n",
       "    <tr>\n",
       "      <th>2023-04-04 00:00:00-04:00</th>\n",
       "      <td>109.408969</td>\n",
       "      <td>107.628332</td>\n",
       "      <td>109.518848</td>\n",
       "      <td>106.749644</td>\n",
       "      <td>1.884298e+07</td>\n",
       "    </tr>\n",
       "    <tr>\n",
       "      <th>2023-04-05 00:00:00-04:00</th>\n",
       "      <td>106.646667</td>\n",
       "      <td>107.210000</td>\n",
       "      <td>107.665000</td>\n",
       "      <td>106.344999</td>\n",
       "      <td>1.533580e+07</td>\n",
       "    </tr>\n",
       "    <tr>\n",
       "      <th>2023-04-06 00:00:00-04:00</th>\n",
       "      <td>106.985001</td>\n",
       "      <td>107.610000</td>\n",
       "      <td>108.005002</td>\n",
       "      <td>106.708336</td>\n",
       "      <td>1.509477e+07</td>\n",
       "    </tr>\n",
       "  </tbody>\n",
       "</table>\n",
       "<p>756 rows × 5 columns</p>\n",
       "</div>"
      ],
      "text/plain": [
       "                             Syn_Open   Syn_Close    Syn_High     Syn_Low  \\\n",
       "Date                                                                        \n",
       "2020-04-07 00:00:00-04:00   61.265570   59.333583   61.895276   58.652256   \n",
       "2020-04-08 00:00:00-04:00   60.435955   62.850933   63.258856   59.926762   \n",
       "2020-04-09 00:00:00-04:00   64.575197   66.678173   67.973065   64.341217   \n",
       "2020-04-13 00:00:00-04:00   66.641232   64.433064   66.858292   64.004479   \n",
       "2020-04-14 00:00:00-04:00   65.841082   63.506972   66.286077   61.946370   \n",
       "...                               ...         ...         ...         ...   \n",
       "2023-03-31 00:00:00-04:00  108.645060  109.512546  109.687507  108.056113   \n",
       "2023-04-03 00:00:00-04:00  109.381402  109.307741  110.391083  108.397048   \n",
       "2023-04-04 00:00:00-04:00  109.408969  107.628332  109.518848  106.749644   \n",
       "2023-04-05 00:00:00-04:00  106.646667  107.210000  107.665000  106.344999   \n",
       "2023-04-06 00:00:00-04:00  106.985001  107.610000  108.005002  106.708336   \n",
       "\n",
       "                              Sy_Volume  \n",
       "Date                                     \n",
       "2020-04-07 00:00:00-04:00  3.601082e+07  \n",
       "2020-04-08 00:00:00-04:00  3.330760e+07  \n",
       "2020-04-09 00:00:00-04:00  5.029647e+07  \n",
       "2020-04-13 00:00:00-04:00  3.203900e+07  \n",
       "2020-04-14 00:00:00-04:00  4.308287e+07  \n",
       "...                                 ...  \n",
       "2023-03-31 00:00:00-04:00  2.070217e+07  \n",
       "2023-04-03 00:00:00-04:00  1.858058e+07  \n",
       "2023-04-04 00:00:00-04:00  1.884298e+07  \n",
       "2023-04-05 00:00:00-04:00  1.533580e+07  \n",
       "2023-04-06 00:00:00-04:00  1.509477e+07  \n",
       "\n",
       "[756 rows x 5 columns]"
      ]
     },
     "execution_count": 36,
     "metadata": {},
     "output_type": "execute_result"
    }
   ],
   "source": [
    "# Rename \"synthetic\" columns\n",
    "BIGBportfolio.columns = ['Syn_Open', 'Syn_Close', 'Syn_High', 'Syn_Low', 'Sy_Volume']\n",
    "BIGBportfolio"
   ]
  },
  {
   "cell_type": "code",
   "execution_count": 37,
   "id": "0d900f9a-0eab-41b3-b7a3-dbd481f44e8f",
   "metadata": {},
   "outputs": [],
   "source": [
    "# Calculate the daily return for each stock\n",
    "# stocks_daily_returns = stocks_df.pivot_table(values='Close', columns='Symbol', index=stocks_df.index).pct_change()\n",
    "stocks_daily_returns = stocks_df.pivot_table(values='Close', columns='Symbol', index=stocks_df.index).pct_change()\n",
    "\n",
    "# Calculate the annual return for each stock\n",
    "annual_returns = stocks_daily_returns.mean() * 252\n",
    "\n",
    "# Calculate the annual volatility for each stock\n",
    "annual_volatility = stocks_daily_returns.std() * np.sqrt(252)"
   ]
  },
  {
   "cell_type": "code",
   "execution_count": 38,
   "id": "fab02138-a8e8-4044-b864-7303d8757a30",
   "metadata": {},
   "outputs": [
    {
     "data": {
      "text/html": [
       "<div>\n",
       "<style scoped>\n",
       "    .dataframe tbody tr th:only-of-type {\n",
       "        vertical-align: middle;\n",
       "    }\n",
       "\n",
       "    .dataframe tbody tr th {\n",
       "        vertical-align: top;\n",
       "    }\n",
       "\n",
       "    .dataframe thead th {\n",
       "        text-align: right;\n",
       "    }\n",
       "</style>\n",
       "<table border=\"1\" class=\"dataframe\">\n",
       "  <thead>\n",
       "    <tr style=\"text-align: right;\">\n",
       "      <th></th>\n",
       "      <th>Syn_Open</th>\n",
       "      <th>Syn_Close</th>\n",
       "      <th>Syn_High</th>\n",
       "      <th>Syn_Low</th>\n",
       "      <th>Sy_Volume</th>\n",
       "    </tr>\n",
       "    <tr>\n",
       "      <th>Date</th>\n",
       "      <th></th>\n",
       "      <th></th>\n",
       "      <th></th>\n",
       "      <th></th>\n",
       "      <th></th>\n",
       "    </tr>\n",
       "  </thead>\n",
       "  <tbody>\n",
       "    <tr>\n",
       "      <th>2020-04-07 00:00:00-04:00</th>\n",
       "      <td>61.265570</td>\n",
       "      <td>59.333583</td>\n",
       "      <td>61.895276</td>\n",
       "      <td>58.652256</td>\n",
       "      <td>3.601082e+07</td>\n",
       "    </tr>\n",
       "    <tr>\n",
       "      <th>2020-04-08 00:00:00-04:00</th>\n",
       "      <td>60.435955</td>\n",
       "      <td>62.850933</td>\n",
       "      <td>63.258856</td>\n",
       "      <td>59.926762</td>\n",
       "      <td>3.330760e+07</td>\n",
       "    </tr>\n",
       "    <tr>\n",
       "      <th>2020-04-09 00:00:00-04:00</th>\n",
       "      <td>64.575197</td>\n",
       "      <td>66.678173</td>\n",
       "      <td>67.973065</td>\n",
       "      <td>64.341217</td>\n",
       "      <td>5.029647e+07</td>\n",
       "    </tr>\n",
       "    <tr>\n",
       "      <th>2020-04-13 00:00:00-04:00</th>\n",
       "      <td>66.641232</td>\n",
       "      <td>64.433064</td>\n",
       "      <td>66.858292</td>\n",
       "      <td>64.004479</td>\n",
       "      <td>3.203900e+07</td>\n",
       "    </tr>\n",
       "    <tr>\n",
       "      <th>2020-04-14 00:00:00-04:00</th>\n",
       "      <td>65.841082</td>\n",
       "      <td>63.506972</td>\n",
       "      <td>66.286077</td>\n",
       "      <td>61.946370</td>\n",
       "      <td>4.308287e+07</td>\n",
       "    </tr>\n",
       "    <tr>\n",
       "      <th>...</th>\n",
       "      <td>...</td>\n",
       "      <td>...</td>\n",
       "      <td>...</td>\n",
       "      <td>...</td>\n",
       "      <td>...</td>\n",
       "    </tr>\n",
       "    <tr>\n",
       "      <th>2023-03-31 00:00:00-04:00</th>\n",
       "      <td>108.645060</td>\n",
       "      <td>109.512546</td>\n",
       "      <td>109.687507</td>\n",
       "      <td>108.056113</td>\n",
       "      <td>2.070217e+07</td>\n",
       "    </tr>\n",
       "    <tr>\n",
       "      <th>2023-04-03 00:00:00-04:00</th>\n",
       "      <td>109.381402</td>\n",
       "      <td>109.307741</td>\n",
       "      <td>110.391083</td>\n",
       "      <td>108.397048</td>\n",
       "      <td>1.858058e+07</td>\n",
       "    </tr>\n",
       "    <tr>\n",
       "      <th>2023-04-04 00:00:00-04:00</th>\n",
       "      <td>109.408969</td>\n",
       "      <td>107.628332</td>\n",
       "      <td>109.518848</td>\n",
       "      <td>106.749644</td>\n",
       "      <td>1.884298e+07</td>\n",
       "    </tr>\n",
       "    <tr>\n",
       "      <th>2023-04-05 00:00:00-04:00</th>\n",
       "      <td>106.646667</td>\n",
       "      <td>107.210000</td>\n",
       "      <td>107.665000</td>\n",
       "      <td>106.344999</td>\n",
       "      <td>1.533580e+07</td>\n",
       "    </tr>\n",
       "    <tr>\n",
       "      <th>2023-04-06 00:00:00-04:00</th>\n",
       "      <td>106.985001</td>\n",
       "      <td>107.610000</td>\n",
       "      <td>108.005002</td>\n",
       "      <td>106.708336</td>\n",
       "      <td>1.509477e+07</td>\n",
       "    </tr>\n",
       "  </tbody>\n",
       "</table>\n",
       "<p>756 rows × 5 columns</p>\n",
       "</div>"
      ],
      "text/plain": [
       "                             Syn_Open   Syn_Close    Syn_High     Syn_Low  \\\n",
       "Date                                                                        \n",
       "2020-04-07 00:00:00-04:00   61.265570   59.333583   61.895276   58.652256   \n",
       "2020-04-08 00:00:00-04:00   60.435955   62.850933   63.258856   59.926762   \n",
       "2020-04-09 00:00:00-04:00   64.575197   66.678173   67.973065   64.341217   \n",
       "2020-04-13 00:00:00-04:00   66.641232   64.433064   66.858292   64.004479   \n",
       "2020-04-14 00:00:00-04:00   65.841082   63.506972   66.286077   61.946370   \n",
       "...                               ...         ...         ...         ...   \n",
       "2023-03-31 00:00:00-04:00  108.645060  109.512546  109.687507  108.056113   \n",
       "2023-04-03 00:00:00-04:00  109.381402  109.307741  110.391083  108.397048   \n",
       "2023-04-04 00:00:00-04:00  109.408969  107.628332  109.518848  106.749644   \n",
       "2023-04-05 00:00:00-04:00  106.646667  107.210000  107.665000  106.344999   \n",
       "2023-04-06 00:00:00-04:00  106.985001  107.610000  108.005002  106.708336   \n",
       "\n",
       "                              Sy_Volume  \n",
       "Date                                     \n",
       "2020-04-07 00:00:00-04:00  3.601082e+07  \n",
       "2020-04-08 00:00:00-04:00  3.330760e+07  \n",
       "2020-04-09 00:00:00-04:00  5.029647e+07  \n",
       "2020-04-13 00:00:00-04:00  3.203900e+07  \n",
       "2020-04-14 00:00:00-04:00  4.308287e+07  \n",
       "...                                 ...  \n",
       "2023-03-31 00:00:00-04:00  2.070217e+07  \n",
       "2023-04-03 00:00:00-04:00  1.858058e+07  \n",
       "2023-04-04 00:00:00-04:00  1.884298e+07  \n",
       "2023-04-05 00:00:00-04:00  1.533580e+07  \n",
       "2023-04-06 00:00:00-04:00  1.509477e+07  \n",
       "\n",
       "[756 rows x 5 columns]"
      ]
     },
     "execution_count": 38,
     "metadata": {},
     "output_type": "execute_result"
    }
   ],
   "source": [
    "BIGBportfolio"
   ]
  },
  {
   "cell_type": "code",
   "execution_count": 39,
   "id": "baaecff0-b1c6-42ff-bccd-77fbcac3f60a",
   "metadata": {},
   "outputs": [
    {
     "name": "stdout",
     "output_type": "stream",
     "text": [
      "Annual Return: Symbol\n",
      "BAC    0.157596\n",
      "C      0.142174\n",
      "GS     0.291044\n",
      "JPM    0.190627\n",
      "MS     0.356443\n",
      "WFC    0.191674\n",
      "dtype: float64\n",
      "Annual Volatility: Symbol\n",
      "BAC    0.342477\n",
      "C      0.374210\n",
      "GS     0.305694\n",
      "JPM    0.307262\n",
      "MS     0.321868\n",
      "WFC    0.389615\n",
      "dtype: float64\n"
     ]
    }
   ],
   "source": [
    "print(\"Annual Return:\", annual_returns)\n",
    "print(\"Annual Volatility:\", annual_volatility)"
   ]
  },
  {
   "cell_type": "code",
   "execution_count": 40,
   "id": "04afa58c-12a0-4139-883c-767028690e46",
   "metadata": {},
   "outputs": [],
   "source": [
    "# Prepare a DataFrame for clustering by extracting 'Annual_Return' and 'Annual_Volatility' columns.\n",
    "data_AR_AV = {'Annual_Return': annual_returns, 'Annual_Volatility': annual_volatility}\n",
    "X_df = pd.DataFrame(data_AR_AV)\n",
    "X_df['Ticker'] = stocks"
   ]
  },
  {
   "cell_type": "code",
   "execution_count": 41,
   "id": "20fe4475-8791-42eb-ac59-2abac5311b86",
   "metadata": {},
   "outputs": [],
   "source": [
    "# Scale the data\n",
    "scaler = StandardScaler()\n",
    "X_scaled = scaler.fit_transform(X_df.iloc[:, :2])"
   ]
  },
  {
   "cell_type": "code",
   "execution_count": 42,
   "id": "eccdc64a-a5eb-406c-acbe-840c40c130c9",
   "metadata": {},
   "outputs": [],
   "source": [
    "# Apply PCA for dimensional reduction\n",
    "pca = PCA(n_components=2)\n",
    "X_pca = pca.fit_transform(X_scaled)"
   ]
  },
  {
   "cell_type": "code",
   "execution_count": 43,
   "id": "52c67b11-8473-4876-b3a2-c1cd03514383",
   "metadata": {},
   "outputs": [],
   "source": [
    "# Create an empty list to store the distorded values\n",
    "distorions = []"
   ]
  },
  {
   "cell_type": "code",
   "execution_count": 44,
   "id": "13b0e817-7fa4-4587-ac66-30ed136c1970",
   "metadata": {},
   "outputs": [],
   "source": [
    "# Define a range of k values to test (from 1-5)\n",
    "# Loop through each k value, fit the model and calculate the distortion\n",
    "K = range(1,6)\n",
    "for k in K:\n",
    "    kmeans = KMeans(n_clusters=k).fit(X_pca)\n",
    "    distorions.append(sum(np.min(cdist(X_pca, kmeans.cluster_centers_, 'euclidean'), axis=1))/X_pca.shape[0])"
   ]
  },
  {
   "cell_type": "code",
   "execution_count": 45,
   "id": "e5b10478-b35e-4e6a-9f8c-32d4ac8f527c",
   "metadata": {},
   "outputs": [
    {
     "data": {},
     "metadata": {},
     "output_type": "display_data"
    },
    {
     "data": {
      "application/vnd.holoviews_exec.v0+json": "",
      "text/html": [
       "<div id='1310'>\n",
       "  <div class=\"bk-root\" id=\"85a42740-acac-4c52-8ba2-80045c5e20b3\" data-root-id=\"1310\"></div>\n",
       "</div>\n",
       "<script type=\"application/javascript\">(function(root) {\n",
       "  function embed_document(root) {\n",
       "    var docs_json = {\"c7de2db6-a300-46f7-bed8-5f18205927ea\":{\"defs\":[{\"extends\":null,\"module\":null,\"name\":\"ReactiveHTML1\",\"overrides\":[],\"properties\":[]},{\"extends\":null,\"module\":null,\"name\":\"FlexBox1\",\"overrides\":[],\"properties\":[{\"default\":\"flex-start\",\"kind\":null,\"name\":\"align_content\"},{\"default\":\"flex-start\",\"kind\":null,\"name\":\"align_items\"},{\"default\":\"row\",\"kind\":null,\"name\":\"flex_direction\"},{\"default\":\"wrap\",\"kind\":null,\"name\":\"flex_wrap\"},{\"default\":\"flex-start\",\"kind\":null,\"name\":\"justify_content\"}]},{\"extends\":null,\"module\":null,\"name\":\"GridStack1\",\"overrides\":[],\"properties\":[{\"default\":\"warn\",\"kind\":null,\"name\":\"mode\"},{\"default\":null,\"kind\":null,\"name\":\"ncols\"},{\"default\":null,\"kind\":null,\"name\":\"nrows\"},{\"default\":true,\"kind\":null,\"name\":\"allow_resize\"},{\"default\":true,\"kind\":null,\"name\":\"allow_drag\"},{\"default\":[],\"kind\":null,\"name\":\"state\"}]},{\"extends\":null,\"module\":null,\"name\":\"click1\",\"overrides\":[],\"properties\":[{\"default\":\"\",\"kind\":null,\"name\":\"terminal_output\"},{\"default\":\"\",\"kind\":null,\"name\":\"debug_name\"},{\"default\":0,\"kind\":null,\"name\":\"clears\"}]},{\"extends\":null,\"module\":null,\"name\":\"NotificationAreaBase1\",\"overrides\":[],\"properties\":[{\"default\":\"bottom-right\",\"kind\":null,\"name\":\"position\"},{\"default\":0,\"kind\":null,\"name\":\"_clear\"}]},{\"extends\":null,\"module\":null,\"name\":\"NotificationArea1\",\"overrides\":[],\"properties\":[{\"default\":[],\"kind\":null,\"name\":\"notifications\"},{\"default\":\"bottom-right\",\"kind\":null,\"name\":\"position\"},{\"default\":0,\"kind\":null,\"name\":\"_clear\"},{\"default\":[{\"background\":\"#ffc107\",\"icon\":{\"className\":\"fas fa-exclamation-triangle\",\"color\":\"white\",\"tagName\":\"i\"},\"type\":\"warning\"},{\"background\":\"#007bff\",\"icon\":{\"className\":\"fas fa-info-circle\",\"color\":\"white\",\"tagName\":\"i\"},\"type\":\"info\"}],\"kind\":null,\"name\":\"types\"}]},{\"extends\":null,\"module\":null,\"name\":\"Notification\",\"overrides\":[],\"properties\":[{\"default\":null,\"kind\":null,\"name\":\"background\"},{\"default\":3000,\"kind\":null,\"name\":\"duration\"},{\"default\":null,\"kind\":null,\"name\":\"icon\"},{\"default\":\"\",\"kind\":null,\"name\":\"message\"},{\"default\":null,\"kind\":null,\"name\":\"notification_type\"},{\"default\":false,\"kind\":null,\"name\":\"_destroyed\"}]},{\"extends\":null,\"module\":null,\"name\":\"TemplateActions1\",\"overrides\":[],\"properties\":[{\"default\":0,\"kind\":null,\"name\":\"open_modal\"},{\"default\":0,\"kind\":null,\"name\":\"close_modal\"}]},{\"extends\":null,\"module\":null,\"name\":\"MaterialTemplateActions1\",\"overrides\":[],\"properties\":[{\"default\":0,\"kind\":null,\"name\":\"open_modal\"},{\"default\":0,\"kind\":null,\"name\":\"close_modal\"}]}],\"roots\":{\"references\":[{\"attributes\":{\"children\":[{\"id\":\"1311\"},{\"id\":\"1315\"},{\"id\":\"1370\"}],\"margin\":[0,0,0,0],\"name\":\"Row01173\",\"tags\":[\"embedded\"]},\"id\":\"1310\",\"type\":\"Row\"},{\"attributes\":{},\"id\":\"1320\",\"type\":\"LinearScale\"},{\"attributes\":{\"tools\":[{\"id\":\"1314\"},{\"id\":\"1332\"},{\"id\":\"1333\"},{\"id\":\"1334\"},{\"id\":\"1335\"},{\"id\":\"1336\"}]},\"id\":\"1338\",\"type\":\"Toolbar\"},{\"attributes\":{\"end\":1.4998898379414154,\"reset_end\":1.4998898379414154,\"reset_start\":0.009777478824813349,\"start\":0.009777478824813349,\"tags\":[[[\"0\",\"0\",null]]]},\"id\":\"1313\",\"type\":\"Range1d\"},{\"attributes\":{\"line_alpha\":0.2,\"line_color\":\"#30a2da\",\"line_width\":2,\"x\":{\"field\":\"index\"},\"y\":{\"field\":\"0\"}},\"id\":\"1350\",\"type\":\"Line\"},{\"attributes\":{\"line_color\":\"#30a2da\",\"line_width\":2,\"x\":{\"field\":\"index\"},\"y\":{\"field\":\"0\"}},\"id\":\"1353\",\"type\":\"Line\"},{\"attributes\":{},\"id\":\"1346\",\"type\":\"Selection\"},{\"attributes\":{\"source\":{\"id\":\"1345\"}},\"id\":\"1352\",\"type\":\"CDSView\"},{\"attributes\":{},\"id\":\"1332\",\"type\":\"SaveTool\"},{\"attributes\":{\"callback\":null,\"renderers\":[{\"id\":\"1351\"}],\"tags\":[\"hv_created\"],\"tooltips\":[[\"index\",\"@{index}\"],[\"0\",\"@{A_0}\"]]},\"id\":\"1314\",\"type\":\"HoverTool\"},{\"attributes\":{},\"id\":\"1322\",\"type\":\"LinearScale\"},{\"attributes\":{},\"id\":\"1333\",\"type\":\"PanTool\"},{\"attributes\":{\"margin\":[5,5,5,5],\"name\":\"HSpacer01177\",\"sizing_mode\":\"stretch_width\"},\"id\":\"1311\",\"type\":\"Spacer\"},{\"attributes\":{\"below\":[{\"id\":\"1324\"}],\"center\":[{\"id\":\"1327\"},{\"id\":\"1331\"}],\"height\":300,\"left\":[{\"id\":\"1328\"}],\"margin\":[5,5,5,5],\"min_border_bottom\":10,\"min_border_left\":10,\"min_border_right\":10,\"min_border_top\":10,\"renderers\":[{\"id\":\"1351\"}],\"sizing_mode\":\"fixed\",\"title\":{\"id\":\"1316\"},\"toolbar\":{\"id\":\"1338\"},\"width\":700,\"x_range\":{\"id\":\"1312\"},\"x_scale\":{\"id\":\"1320\"},\"y_range\":{\"id\":\"1313\"},\"y_scale\":{\"id\":\"1322\"}},\"id\":\"1315\",\"subtype\":\"Figure\",\"type\":\"Plot\"},{\"attributes\":{},\"id\":\"1334\",\"type\":\"WheelZoomTool\"},{\"attributes\":{\"line_color\":\"#30a2da\",\"line_width\":2,\"x\":{\"field\":\"index\"},\"y\":{\"field\":\"0\"}},\"id\":\"1348\",\"type\":\"Line\"},{\"attributes\":{\"overlay\":{\"id\":\"1337\"}},\"id\":\"1335\",\"type\":\"BoxZoomTool\"},{\"attributes\":{\"data\":{\"0\":{\"__ndarray__\":\"cEhhe+wC9j+3ojyH9DTnP6AIrBRQrd8/rxYIVz0i0z/lqqJ5YyXBPw==\",\"dtype\":\"float64\",\"order\":\"little\",\"shape\":[5]},\"A_0\":{\"__ndarray__\":\"cEhhe+wC9j+3ojyH9DTnP6AIrBRQrd8/rxYIVz0i0z/lqqJ5YyXBPw==\",\"dtype\":\"float64\",\"order\":\"little\",\"shape\":[5]},\"index\":[1,2,3,4,5]},\"selected\":{\"id\":\"1346\"},\"selection_policy\":{\"id\":\"1367\"}},\"id\":\"1345\",\"type\":\"ColumnDataSource\"},{\"attributes\":{\"coordinates\":null,\"data_source\":{\"id\":\"1345\"},\"glyph\":{\"id\":\"1348\"},\"group\":null,\"hover_glyph\":null,\"muted_glyph\":{\"id\":\"1350\"},\"nonselection_glyph\":{\"id\":\"1349\"},\"selection_glyph\":{\"id\":\"1353\"},\"view\":{\"id\":\"1352\"}},\"id\":\"1351\",\"type\":\"GlyphRenderer\"},{\"attributes\":{\"line_alpha\":0.1,\"line_color\":\"#30a2da\",\"line_width\":2,\"x\":{\"field\":\"index\"},\"y\":{\"field\":\"0\"}},\"id\":\"1349\",\"type\":\"Line\"},{\"attributes\":{\"axis_label\":\"k\",\"coordinates\":null,\"formatter\":{\"id\":\"1355\"},\"group\":null,\"major_label_policy\":{\"id\":\"1356\"},\"ticker\":{\"id\":\"1325\"}},\"id\":\"1324\",\"type\":\"LinearAxis\"},{\"attributes\":{},\"id\":\"1367\",\"type\":\"UnionRenderers\"},{\"attributes\":{\"coordinates\":null,\"group\":null,\"text\":\"Elbow Method showing the optimal value for k\",\"text_color\":\"black\",\"text_font_size\":\"12pt\"},\"id\":\"1316\",\"type\":\"Title\"},{\"attributes\":{},\"id\":\"1336\",\"type\":\"ResetTool\"},{\"attributes\":{\"bottom_units\":\"screen\",\"coordinates\":null,\"fill_alpha\":0.5,\"fill_color\":\"lightgrey\",\"group\":null,\"left_units\":\"screen\",\"level\":\"overlay\",\"line_alpha\":1.0,\"line_color\":\"black\",\"line_dash\":[4,4],\"line_width\":2,\"right_units\":\"screen\",\"syncable\":false,\"top_units\":\"screen\"},\"id\":\"1337\",\"type\":\"BoxAnnotation\"},{\"attributes\":{},\"id\":\"1358\",\"type\":\"BasicTickFormatter\"},{\"attributes\":{},\"id\":\"1325\",\"type\":\"BasicTicker\"},{\"attributes\":{\"axis\":{\"id\":\"1328\"},\"coordinates\":null,\"dimension\":1,\"grid_line_color\":null,\"group\":null,\"ticker\":null},\"id\":\"1331\",\"type\":\"Grid\"},{\"attributes\":{},\"id\":\"1356\",\"type\":\"AllLabels\"},{\"attributes\":{\"axis_label\":\"Distortion\",\"coordinates\":null,\"formatter\":{\"id\":\"1358\"},\"group\":null,\"major_label_policy\":{\"id\":\"1359\"},\"ticker\":{\"id\":\"1329\"}},\"id\":\"1328\",\"type\":\"LinearAxis\"},{\"attributes\":{},\"id\":\"1355\",\"type\":\"BasicTickFormatter\"},{\"attributes\":{},\"id\":\"1359\",\"type\":\"AllLabels\"},{\"attributes\":{\"axis\":{\"id\":\"1324\"},\"coordinates\":null,\"grid_line_color\":null,\"group\":null,\"ticker\":null},\"id\":\"1327\",\"type\":\"Grid\"},{\"attributes\":{\"margin\":[5,5,5,5],\"name\":\"HSpacer01178\",\"sizing_mode\":\"stretch_width\"},\"id\":\"1370\",\"type\":\"Spacer\"},{\"attributes\":{},\"id\":\"1329\",\"type\":\"BasicTicker\"},{\"attributes\":{\"end\":5.0,\"reset_end\":5.0,\"reset_start\":1.0,\"start\":1.0,\"tags\":[[[\"index\",\"index\",null]]]},\"id\":\"1312\",\"type\":\"Range1d\"}],\"root_ids\":[\"1310\"]},\"title\":\"Bokeh Application\",\"version\":\"2.4.3\"}};\n",
       "    var render_items = [{\"docid\":\"c7de2db6-a300-46f7-bed8-5f18205927ea\",\"root_ids\":[\"1310\"],\"roots\":{\"1310\":\"85a42740-acac-4c52-8ba2-80045c5e20b3\"}}];\n",
       "    root.Bokeh.embed.embed_items_notebook(docs_json, render_items);\n",
       "  }\n",
       "  if (root.Bokeh !== undefined && root.Bokeh.Panel !== undefined) {\n",
       "    embed_document(root);\n",
       "  } else {\n",
       "    var attempts = 0;\n",
       "    var timer = setInterval(function(root) {\n",
       "      if (root.Bokeh !== undefined && root.Bokeh.Panel !== undefined) {\n",
       "        clearInterval(timer);\n",
       "        embed_document(root);\n",
       "      } else if (document.readyState == \"complete\") {\n",
       "        attempts++;\n",
       "        if (attempts > 200) {\n",
       "          clearInterval(timer);\n",
       "          console.log(\"Bokeh: ERROR: Unable to run BokehJS code because BokehJS library is missing\");\n",
       "        }\n",
       "      }\n",
       "    }, 25, root)\n",
       "  }\n",
       "})(window);</script>"
      ],
      "text/plain": [
       ":Curve   [index]   (0)"
      ]
     },
     "execution_count": 45,
     "metadata": {
      "application/vnd.holoviews_exec.v0+json": {
       "id": "1310"
      }
     },
     "output_type": "execute_result"
    }
   ],
   "source": [
    "#plot the elbow curve to visualize the optimal k value\n",
    "pd.Series(distorions, index=K).hvplot.line(xlabel='k', ylabel='Distortion', title='Elbow Method showing the optimal value for k')"
   ]
  },
  {
   "cell_type": "code",
   "execution_count": 46,
   "id": "7a500b72-1dbe-44e8-89d0-31e16dcb5337",
   "metadata": {},
   "outputs": [],
   "source": [
    "# Fit the KMeans model\n",
    "optimal_k= 3\n",
    "kmeans = KMeans(n_clusters=optimal_k).fit(X_pca)"
   ]
  },
  {
   "cell_type": "code",
   "execution_count": 47,
   "id": "8f7b1f4b-702d-45b2-999f-d579a49976a4",
   "metadata": {},
   "outputs": [],
   "source": [
    "# assign the cluster labels to each data point\n",
    "X_df['Cluster'] = kmeans.labels_"
   ]
  },
  {
   "cell_type": "code",
   "execution_count": 48,
   "id": "f725c1d7-b6d6-46f1-b0a7-aa2dac61a5f8",
   "metadata": {},
   "outputs": [
    {
     "data": {},
     "metadata": {},
     "output_type": "display_data"
    },
    {
     "data": {
      "application/vnd.holoviews_exec.v0+json": "",
      "text/html": [
       "<div id='1422'>\n",
       "  <div class=\"bk-root\" id=\"bfeb670b-fcf7-467d-af6a-2f5d1e11398b\" data-root-id=\"1422\"></div>\n",
       "</div>\n",
       "<script type=\"application/javascript\">(function(root) {\n",
       "  function embed_document(root) {\n",
       "    var docs_json = {\"a4f1748f-1f8b-46f1-bbe8-8009457314e0\":{\"defs\":[{\"extends\":null,\"module\":null,\"name\":\"ReactiveHTML1\",\"overrides\":[],\"properties\":[]},{\"extends\":null,\"module\":null,\"name\":\"FlexBox1\",\"overrides\":[],\"properties\":[{\"default\":\"flex-start\",\"kind\":null,\"name\":\"align_content\"},{\"default\":\"flex-start\",\"kind\":null,\"name\":\"align_items\"},{\"default\":\"row\",\"kind\":null,\"name\":\"flex_direction\"},{\"default\":\"wrap\",\"kind\":null,\"name\":\"flex_wrap\"},{\"default\":\"flex-start\",\"kind\":null,\"name\":\"justify_content\"}]},{\"extends\":null,\"module\":null,\"name\":\"GridStack1\",\"overrides\":[],\"properties\":[{\"default\":\"warn\",\"kind\":null,\"name\":\"mode\"},{\"default\":null,\"kind\":null,\"name\":\"ncols\"},{\"default\":null,\"kind\":null,\"name\":\"nrows\"},{\"default\":true,\"kind\":null,\"name\":\"allow_resize\"},{\"default\":true,\"kind\":null,\"name\":\"allow_drag\"},{\"default\":[],\"kind\":null,\"name\":\"state\"}]},{\"extends\":null,\"module\":null,\"name\":\"click1\",\"overrides\":[],\"properties\":[{\"default\":\"\",\"kind\":null,\"name\":\"terminal_output\"},{\"default\":\"\",\"kind\":null,\"name\":\"debug_name\"},{\"default\":0,\"kind\":null,\"name\":\"clears\"}]},{\"extends\":null,\"module\":null,\"name\":\"NotificationAreaBase1\",\"overrides\":[],\"properties\":[{\"default\":\"bottom-right\",\"kind\":null,\"name\":\"position\"},{\"default\":0,\"kind\":null,\"name\":\"_clear\"}]},{\"extends\":null,\"module\":null,\"name\":\"NotificationArea1\",\"overrides\":[],\"properties\":[{\"default\":[],\"kind\":null,\"name\":\"notifications\"},{\"default\":\"bottom-right\",\"kind\":null,\"name\":\"position\"},{\"default\":0,\"kind\":null,\"name\":\"_clear\"},{\"default\":[{\"background\":\"#ffc107\",\"icon\":{\"className\":\"fas fa-exclamation-triangle\",\"color\":\"white\",\"tagName\":\"i\"},\"type\":\"warning\"},{\"background\":\"#007bff\",\"icon\":{\"className\":\"fas fa-info-circle\",\"color\":\"white\",\"tagName\":\"i\"},\"type\":\"info\"}],\"kind\":null,\"name\":\"types\"}]},{\"extends\":null,\"module\":null,\"name\":\"Notification\",\"overrides\":[],\"properties\":[{\"default\":null,\"kind\":null,\"name\":\"background\"},{\"default\":3000,\"kind\":null,\"name\":\"duration\"},{\"default\":null,\"kind\":null,\"name\":\"icon\"},{\"default\":\"\",\"kind\":null,\"name\":\"message\"},{\"default\":null,\"kind\":null,\"name\":\"notification_type\"},{\"default\":false,\"kind\":null,\"name\":\"_destroyed\"}]},{\"extends\":null,\"module\":null,\"name\":\"TemplateActions1\",\"overrides\":[],\"properties\":[{\"default\":0,\"kind\":null,\"name\":\"open_modal\"},{\"default\":0,\"kind\":null,\"name\":\"close_modal\"}]},{\"extends\":null,\"module\":null,\"name\":\"MaterialTemplateActions1\",\"overrides\":[],\"properties\":[{\"default\":0,\"kind\":null,\"name\":\"open_modal\"},{\"default\":0,\"kind\":null,\"name\":\"close_modal\"}]}],\"roots\":{\"references\":[{\"attributes\":{\"children\":[{\"id\":\"1423\"},{\"id\":\"1429\"},{\"id\":\"1546\"}],\"margin\":[0,0,0,0],\"name\":\"Row01329\",\"tags\":[\"embedded\"]},\"id\":\"1422\",\"type\":\"Row\"},{\"attributes\":{},\"id\":\"1460\",\"type\":\"BasicTickFormatter\"},{\"attributes\":{},\"id\":\"1480\",\"type\":\"UnionRenderers\"},{\"attributes\":{\"click_policy\":\"mute\",\"coordinates\":null,\"group\":null,\"items\":[{\"id\":\"1484\"},{\"id\":\"1506\"},{\"id\":\"1530\"}],\"location\":[0,0],\"title\":\"Cluster\"},\"id\":\"1483\",\"type\":\"Legend\"},{\"attributes\":{\"below\":[{\"id\":\"1438\"}],\"center\":[{\"id\":\"1441\"},{\"id\":\"1445\"}],\"height\":300,\"left\":[{\"id\":\"1442\"}],\"margin\":[5,5,5,5],\"min_border_bottom\":10,\"min_border_left\":10,\"min_border_right\":10,\"min_border_top\":10,\"renderers\":[{\"id\":\"1471\"},{\"id\":\"1492\"},{\"id\":\"1514\"}],\"right\":[{\"id\":\"1483\"}],\"sizing_mode\":\"fixed\",\"title\":{\"id\":\"1430\"},\"toolbar\":{\"id\":\"1452\"},\"width\":700,\"x_range\":{\"id\":\"1424\"},\"x_scale\":{\"id\":\"1434\"},\"y_range\":{\"id\":\"1425\"},\"y_scale\":{\"id\":\"1436\"}},\"id\":\"1429\",\"subtype\":\"Figure\",\"type\":\"Plot\"},{\"attributes\":{\"label\":{\"value\":\"1\"},\"renderers\":[{\"id\":\"1492\"}]},\"id\":\"1506\",\"type\":\"LegendItem\"},{\"attributes\":{\"label\":{\"value\":\"0\"},\"renderers\":[{\"id\":\"1471\"}]},\"id\":\"1484\",\"type\":\"LegendItem\"},{\"attributes\":{},\"id\":\"1446\",\"type\":\"SaveTool\"},{\"attributes\":{\"fill_alpha\":{\"value\":0.1},\"fill_color\":{\"value\":\"#e5ae38\"},\"hatch_alpha\":{\"value\":0.1},\"hatch_color\":{\"value\":\"#e5ae38\"},\"line_alpha\":{\"value\":0.1},\"line_color\":{\"value\":\"#e5ae38\"},\"size\":{\"value\":5.477225575051661},\"x\":{\"field\":\"Annual_Return\"},\"y\":{\"field\":\"Annual_Volatility\"}},\"id\":\"1512\",\"type\":\"Scatter\"},{\"attributes\":{\"fill_alpha\":{\"value\":0.2},\"fill_color\":{\"value\":\"#e5ae38\"},\"hatch_alpha\":{\"value\":0.2},\"hatch_color\":{\"value\":\"#e5ae38\"},\"line_alpha\":{\"value\":0.2},\"line_color\":{\"value\":\"#e5ae38\"},\"size\":{\"value\":5.477225575051661},\"x\":{\"field\":\"Annual_Return\"},\"y\":{\"field\":\"Annual_Volatility\"}},\"id\":\"1513\",\"type\":\"Scatter\"},{\"attributes\":{},\"id\":\"1447\",\"type\":\"PanTool\"},{\"attributes\":{\"coordinates\":null,\"group\":null,\"text\":\"Clusters of ETFs\",\"text_color\":\"black\",\"text_font_size\":\"12pt\"},\"id\":\"1430\",\"type\":\"Title\"},{\"attributes\":{\"coordinates\":null,\"data_source\":{\"id\":\"1508\"},\"glyph\":{\"id\":\"1511\"},\"group\":null,\"hover_glyph\":null,\"muted_glyph\":{\"id\":\"1513\"},\"nonselection_glyph\":{\"id\":\"1512\"},\"selection_glyph\":{\"id\":\"1531\"},\"view\":{\"id\":\"1515\"}},\"id\":\"1514\",\"type\":\"GlyphRenderer\"},{\"attributes\":{\"label\":{\"value\":\"2\"},\"renderers\":[{\"id\":\"1514\"}]},\"id\":\"1530\",\"type\":\"LegendItem\"},{\"attributes\":{\"data\":{\"Annual_Return\":{\"__ndarray__\":\"C3w+T8Qywj9HCzC4xIjIPw==\",\"dtype\":\"float64\",\"order\":\"little\",\"shape\":[2]},\"Annual_Volatility\":{\"__ndarray__\":\"8lTB+g7z1z8vRADyc+/YPw==\",\"dtype\":\"float64\",\"order\":\"little\",\"shape\":[2]},\"Cluster\":[0,0],\"Ticker\":[\"C\",\"WFC\"]},\"selected\":{\"id\":\"1466\"},\"selection_policy\":{\"id\":\"1480\"}},\"id\":\"1465\",\"type\":\"ColumnDataSource\"},{\"attributes\":{\"fill_color\":{\"value\":\"#e5ae38\"},\"hatch_color\":{\"value\":\"#e5ae38\"},\"line_color\":{\"value\":\"#e5ae38\"},\"size\":{\"value\":5.477225575051661},\"x\":{\"field\":\"Annual_Return\"},\"y\":{\"field\":\"Annual_Volatility\"}},\"id\":\"1511\",\"type\":\"Scatter\"},{\"attributes\":{},\"id\":\"1448\",\"type\":\"WheelZoomTool\"},{\"attributes\":{\"tools\":[{\"id\":\"1426\"},{\"id\":\"1446\"},{\"id\":\"1447\"},{\"id\":\"1448\"},{\"id\":\"1449\"},{\"id\":\"1450\"}]},\"id\":\"1452\",\"type\":\"Toolbar\"},{\"attributes\":{\"overlay\":{\"id\":\"1451\"}},\"id\":\"1449\",\"type\":\"BoxZoomTool\"},{\"attributes\":{},\"id\":\"1466\",\"type\":\"Selection\"},{\"attributes\":{},\"id\":\"1434\",\"type\":\"LinearScale\"},{\"attributes\":{\"source\":{\"id\":\"1508\"}},\"id\":\"1515\",\"type\":\"CDSView\"},{\"attributes\":{},\"id\":\"1464\",\"type\":\"AllLabels\"},{\"attributes\":{},\"id\":\"1503\",\"type\":\"UnionRenderers\"},{\"attributes\":{},\"id\":\"1527\",\"type\":\"UnionRenderers\"},{\"attributes\":{\"margin\":[5,5,5,5],\"name\":\"HSpacer01334\",\"sizing_mode\":\"stretch_width\"},\"id\":\"1546\",\"type\":\"Spacer\"},{\"attributes\":{\"angle\":{\"value\":0.0},\"fill_alpha\":{\"value\":1.0},\"fill_color\":{\"value\":\"#30a2da\"},\"hatch_alpha\":{\"value\":1.0},\"hatch_color\":{\"value\":\"#30a2da\"},\"hatch_scale\":{\"value\":12.0},\"hatch_weight\":{\"value\":1.0},\"line_alpha\":{\"value\":1.0},\"line_cap\":{\"value\":\"butt\"},\"line_color\":{\"value\":\"#30a2da\"},\"line_dash\":{\"value\":[]},\"line_dash_offset\":{\"value\":0},\"line_join\":{\"value\":\"bevel\"},\"line_width\":{\"value\":1},\"marker\":{\"value\":\"circle\"},\"size\":{\"value\":5.477225575051661},\"x\":{\"field\":\"Annual_Return\"},\"y\":{\"field\":\"Annual_Volatility\"}},\"id\":\"1485\",\"type\":\"Scatter\"},{\"attributes\":{},\"id\":\"1450\",\"type\":\"ResetTool\"},{\"attributes\":{\"end\":0.3656257371747964,\"reset_end\":0.3656257371747964,\"reset_start\":0.13299134426570125,\"start\":0.13299134426570125,\"tags\":[[[\"Annual_Return\",\"Annual_Return\",null]]]},\"id\":\"1424\",\"type\":\"Range1d\"},{\"attributes\":{\"fill_color\":{\"value\":\"#fc4f30\"},\"hatch_color\":{\"value\":\"#fc4f30\"},\"line_color\":{\"value\":\"#fc4f30\"},\"size\":{\"value\":5.477225575051661},\"x\":{\"field\":\"Annual_Return\"},\"y\":{\"field\":\"Annual_Volatility\"}},\"id\":\"1489\",\"type\":\"Scatter\"},{\"attributes\":{\"callback\":null,\"renderers\":[{\"id\":\"1471\"},{\"id\":\"1492\"},{\"id\":\"1514\"}],\"tags\":[\"hv_created\"],\"tooltips\":[[\"Cluster\",\"@{Cluster}\"],[\"Annual_Return\",\"@{Annual_Return}\"],[\"Annual_Volatility\",\"@{Annual_Volatility}\"],[\"Ticker\",\"@{Ticker}\"]]},\"id\":\"1426\",\"type\":\"HoverTool\"},{\"attributes\":{\"axis\":{\"id\":\"1442\"},\"coordinates\":null,\"dimension\":1,\"grid_line_color\":null,\"group\":null,\"ticker\":null},\"id\":\"1445\",\"type\":\"Grid\"},{\"attributes\":{\"bottom_units\":\"screen\",\"coordinates\":null,\"fill_alpha\":0.5,\"fill_color\":\"lightgrey\",\"group\":null,\"left_units\":\"screen\",\"level\":\"overlay\",\"line_alpha\":1.0,\"line_color\":\"black\",\"line_dash\":[4,4],\"line_width\":2,\"right_units\":\"screen\",\"syncable\":false,\"top_units\":\"screen\"},\"id\":\"1451\",\"type\":\"BoxAnnotation\"},{\"attributes\":{},\"id\":\"1436\",\"type\":\"LinearScale\"},{\"attributes\":{\"source\":{\"id\":\"1486\"}},\"id\":\"1493\",\"type\":\"CDSView\"},{\"attributes\":{\"axis_label\":\"Annual_Return\",\"coordinates\":null,\"formatter\":{\"id\":\"1460\"},\"group\":null,\"major_label_policy\":{\"id\":\"1461\"},\"ticker\":{\"id\":\"1439\"}},\"id\":\"1438\",\"type\":\"LinearAxis\"},{\"attributes\":{},\"id\":\"1461\",\"type\":\"AllLabels\"},{\"attributes\":{\"fill_alpha\":{\"value\":0.2},\"fill_color\":{\"value\":\"#30a2da\"},\"hatch_alpha\":{\"value\":0.2},\"hatch_color\":{\"value\":\"#30a2da\"},\"line_alpha\":{\"value\":0.2},\"line_color\":{\"value\":\"#30a2da\"},\"size\":{\"value\":5.477225575051661},\"x\":{\"field\":\"Annual_Return\"},\"y\":{\"field\":\"Annual_Volatility\"}},\"id\":\"1470\",\"type\":\"Scatter\"},{\"attributes\":{\"fill_alpha\":{\"value\":0.1},\"fill_color\":{\"value\":\"#fc4f30\"},\"hatch_alpha\":{\"value\":0.1},\"hatch_color\":{\"value\":\"#fc4f30\"},\"line_alpha\":{\"value\":0.1},\"line_color\":{\"value\":\"#fc4f30\"},\"size\":{\"value\":5.477225575051661},\"x\":{\"field\":\"Annual_Return\"},\"y\":{\"field\":\"Annual_Volatility\"}},\"id\":\"1490\",\"type\":\"Scatter\"},{\"attributes\":{\"data\":{\"Annual_Return\":{\"__ndarray__\":\"XtqfQBssxD/nD9v7eWbIPw==\",\"dtype\":\"float64\",\"order\":\"little\",\"shape\":[2]},\"Annual_Volatility\":{\"__ndarray__\":\"09KvpSbr1T8TCfeoLKrTPw==\",\"dtype\":\"float64\",\"order\":\"little\",\"shape\":[2]},\"Cluster\":[2,2],\"Ticker\":[\"GS\",\"JPM\"]},\"selected\":{\"id\":\"1509\"},\"selection_policy\":{\"id\":\"1527\"}},\"id\":\"1508\",\"type\":\"ColumnDataSource\"},{\"attributes\":{},\"id\":\"1439\",\"type\":\"BasicTicker\"},{\"attributes\":{\"coordinates\":null,\"data_source\":{\"id\":\"1486\"},\"glyph\":{\"id\":\"1489\"},\"group\":null,\"hover_glyph\":null,\"muted_glyph\":{\"id\":\"1491\"},\"nonselection_glyph\":{\"id\":\"1490\"},\"selection_glyph\":{\"id\":\"1507\"},\"view\":{\"id\":\"1493\"}},\"id\":\"1492\",\"type\":\"GlyphRenderer\"},{\"attributes\":{},\"id\":\"1487\",\"type\":\"Selection\"},{\"attributes\":{\"axis\":{\"id\":\"1438\"},\"coordinates\":null,\"grid_line_color\":null,\"group\":null,\"ticker\":null},\"id\":\"1441\",\"type\":\"Grid\"},{\"attributes\":{\"fill_alpha\":{\"value\":0.2},\"fill_color\":{\"value\":\"#fc4f30\"},\"hatch_alpha\":{\"value\":0.2},\"hatch_color\":{\"value\":\"#fc4f30\"},\"line_alpha\":{\"value\":0.2},\"line_color\":{\"value\":\"#fc4f30\"},\"size\":{\"value\":5.477225575051661},\"x\":{\"field\":\"Annual_Return\"},\"y\":{\"field\":\"Annual_Volatility\"}},\"id\":\"1491\",\"type\":\"Scatter\"},{\"attributes\":{\"end\":0.39800718663036566,\"reset_end\":0.39800718663036566,\"reset_start\":0.2973014974025218,\"start\":0.2973014974025218,\"tags\":[[[\"Annual_Volatility\",\"Annual_Volatility\",null]]]},\"id\":\"1425\",\"type\":\"Range1d\"},{\"attributes\":{\"coordinates\":null,\"data_source\":{\"id\":\"1465\"},\"glyph\":{\"id\":\"1468\"},\"group\":null,\"hover_glyph\":null,\"muted_glyph\":{\"id\":\"1470\"},\"nonselection_glyph\":{\"id\":\"1469\"},\"selection_glyph\":{\"id\":\"1485\"},\"view\":{\"id\":\"1472\"}},\"id\":\"1471\",\"type\":\"GlyphRenderer\"},{\"attributes\":{},\"id\":\"1509\",\"type\":\"Selection\"},{\"attributes\":{},\"id\":\"1443\",\"type\":\"BasicTicker\"},{\"attributes\":{},\"id\":\"1463\",\"type\":\"BasicTickFormatter\"},{\"attributes\":{\"margin\":[5,5,5,5],\"name\":\"HSpacer01333\",\"sizing_mode\":\"stretch_width\"},\"id\":\"1423\",\"type\":\"Spacer\"},{\"attributes\":{\"axis_label\":\"Annual_Volatility\",\"coordinates\":null,\"formatter\":{\"id\":\"1463\"},\"group\":null,\"major_label_policy\":{\"id\":\"1464\"},\"ticker\":{\"id\":\"1443\"}},\"id\":\"1442\",\"type\":\"LinearAxis\"},{\"attributes\":{\"source\":{\"id\":\"1465\"}},\"id\":\"1472\",\"type\":\"CDSView\"},{\"attributes\":{\"angle\":{\"value\":0.0},\"fill_alpha\":{\"value\":1.0},\"fill_color\":{\"value\":\"#fc4f30\"},\"hatch_alpha\":{\"value\":1.0},\"hatch_color\":{\"value\":\"#fc4f30\"},\"hatch_scale\":{\"value\":12.0},\"hatch_weight\":{\"value\":1.0},\"line_alpha\":{\"value\":1.0},\"line_cap\":{\"value\":\"butt\"},\"line_color\":{\"value\":\"#fc4f30\"},\"line_dash\":{\"value\":[]},\"line_dash_offset\":{\"value\":0},\"line_join\":{\"value\":\"bevel\"},\"line_width\":{\"value\":1},\"marker\":{\"value\":\"circle\"},\"size\":{\"value\":5.477225575051661},\"x\":{\"field\":\"Annual_Return\"},\"y\":{\"field\":\"Annual_Volatility\"}},\"id\":\"1507\",\"type\":\"Scatter\"},{\"attributes\":{\"fill_color\":{\"value\":\"#30a2da\"},\"hatch_color\":{\"value\":\"#30a2da\"},\"line_color\":{\"value\":\"#30a2da\"},\"size\":{\"value\":5.477225575051661},\"x\":{\"field\":\"Annual_Return\"},\"y\":{\"field\":\"Annual_Volatility\"}},\"id\":\"1468\",\"type\":\"Scatter\"},{\"attributes\":{\"angle\":{\"value\":0.0},\"fill_alpha\":{\"value\":1.0},\"fill_color\":{\"value\":\"#e5ae38\"},\"hatch_alpha\":{\"value\":1.0},\"hatch_color\":{\"value\":\"#e5ae38\"},\"hatch_scale\":{\"value\":12.0},\"hatch_weight\":{\"value\":1.0},\"line_alpha\":{\"value\":1.0},\"line_cap\":{\"value\":\"butt\"},\"line_color\":{\"value\":\"#e5ae38\"},\"line_dash\":{\"value\":[]},\"line_dash_offset\":{\"value\":0},\"line_join\":{\"value\":\"bevel\"},\"line_width\":{\"value\":1},\"marker\":{\"value\":\"circle\"},\"size\":{\"value\":5.477225575051661},\"x\":{\"field\":\"Annual_Return\"},\"y\":{\"field\":\"Annual_Volatility\"}},\"id\":\"1531\",\"type\":\"Scatter\"},{\"attributes\":{\"data\":{\"Annual_Return\":{\"__ndarray__\":\"r01N5neg0j/QpeF29c/WPw==\",\"dtype\":\"float64\",\"order\":\"little\",\"shape\":[2]},\"Annual_Volatility\":{\"__ndarray__\":\"Sa6iDHyQ0z/y56CjfJnUPw==\",\"dtype\":\"float64\",\"order\":\"little\",\"shape\":[2]},\"Cluster\":[1,1],\"Ticker\":[\"MS\",\"BAC\"]},\"selected\":{\"id\":\"1487\"},\"selection_policy\":{\"id\":\"1503\"}},\"id\":\"1486\",\"type\":\"ColumnDataSource\"},{\"attributes\":{\"fill_alpha\":{\"value\":0.1},\"fill_color\":{\"value\":\"#30a2da\"},\"hatch_alpha\":{\"value\":0.1},\"hatch_color\":{\"value\":\"#30a2da\"},\"line_alpha\":{\"value\":0.1},\"line_color\":{\"value\":\"#30a2da\"},\"size\":{\"value\":5.477225575051661},\"x\":{\"field\":\"Annual_Return\"},\"y\":{\"field\":\"Annual_Volatility\"}},\"id\":\"1469\",\"type\":\"Scatter\"}],\"root_ids\":[\"1422\"]},\"title\":\"Bokeh Application\",\"version\":\"2.4.3\"}};\n",
       "    var render_items = [{\"docid\":\"a4f1748f-1f8b-46f1-bbe8-8009457314e0\",\"root_ids\":[\"1422\"],\"roots\":{\"1422\":\"bfeb670b-fcf7-467d-af6a-2f5d1e11398b\"}}];\n",
       "    root.Bokeh.embed.embed_items_notebook(docs_json, render_items);\n",
       "  }\n",
       "  if (root.Bokeh !== undefined && root.Bokeh.Panel !== undefined) {\n",
       "    embed_document(root);\n",
       "  } else {\n",
       "    var attempts = 0;\n",
       "    var timer = setInterval(function(root) {\n",
       "      if (root.Bokeh !== undefined && root.Bokeh.Panel !== undefined) {\n",
       "        clearInterval(timer);\n",
       "        embed_document(root);\n",
       "      } else if (document.readyState == \"complete\") {\n",
       "        attempts++;\n",
       "        if (attempts > 200) {\n",
       "          clearInterval(timer);\n",
       "          console.log(\"Bokeh: ERROR: Unable to run BokehJS code because BokehJS library is missing\");\n",
       "        }\n",
       "      }\n",
       "    }, 25, root)\n",
       "  }\n",
       "})(window);</script>"
      ],
      "text/plain": [
       ":NdOverlay   [Cluster]\n",
       "   :Scatter   [Annual_Return]   (Annual_Volatility,Ticker)"
      ]
     },
     "execution_count": 48,
     "metadata": {
      "application/vnd.holoviews_exec.v0+json": {
       "id": "1422"
      }
     },
     "output_type": "execute_result"
    }
   ],
   "source": [
    "# Visualize the clusters by plotting 'Annual_Return' on the z-axis and 'Annual_Volatility' on the y-axis\n",
    "plot = X_df.hvplot.scatter(x='Annual_Return', y='Annual_Volatility', by='Cluster', hover_cols=['Ticker', 'ETF_Segment'], title='Clusters of ETFs')\n",
    "plot"
   ]
  },
  {
   "cell_type": "code",
   "execution_count": 49,
   "id": "f76b63a7-b699-49bd-815e-0167cc72dc69",
   "metadata": {},
   "outputs": [],
   "source": [
    "# # Load data (Replace this with the actual data)\n",
    "# # Below is example data for demonstration only\n",
    "# data = {'date': pd.date_range(start='2023-04-01', periods=365, freq='D'), 'close': np.random.rand(365)}\n",
    "# New_df = pd.DataFrame(data)"
   ]
  },
  {
   "cell_type": "code",
   "execution_count": 50,
   "id": "90d963e1-fac4-4fa7-99d3-b77e70653cae",
   "metadata": {},
   "outputs": [],
   "source": [
    "# Rename columns to fit Prophet requirements\n",
    "syn_close_df = BIGBportfolio.reset_index().rename(columns={'index': 'ds', 'Syn_Close': 'y'})\n",
    "\n",
    "# Create 'ds' column\n",
    "syn_close_df['ds'] = syn_close_df.index\n",
    "\n",
    "#Convert 'ds' column to datetime\n",
    "syn_close_df['ds'] = pd.to_datetime(syn_close_df['ds'])\n",
    "\n",
    "# Remove timezones from 'ds'\n",
    "syn_close_df['ds'] = syn_close_df['ds'].dt.tz_localize(None)\n"
   ]
  },
  {
   "cell_type": "code",
   "execution_count": 51,
   "id": "e90f0e52-359d-448e-b257-724f907e6b9e",
   "metadata": {},
   "outputs": [
    {
     "name": "stderr",
     "output_type": "stream",
     "text": [
      "18:47:42 - cmdstanpy - INFO - Chain [1] start processing\n",
      "18:47:42 - cmdstanpy - INFO - Chain [1] done processing\n"
     ]
    },
    {
     "data": {
      "text/plain": [
       "<prophet.forecaster.Prophet at 0x7fbd6a23e3d0>"
      ]
     },
     "execution_count": 51,
     "metadata": {},
     "output_type": "execute_result"
    }
   ],
   "source": [
    "# Fit Prophet model\n",
    "model = Prophet()\n",
    "model.fit(syn_close_df)"
   ]
  },
  {
   "cell_type": "code",
   "execution_count": 52,
   "id": "9131cb45-1e50-4995-9e14-19726eff3d22",
   "metadata": {},
   "outputs": [],
   "source": [
    "# Create future dates DataFrame for Predictions \n",
    "future = model.make_future_dataframe(periods=365)"
   ]
  },
  {
   "cell_type": "code",
   "execution_count": 53,
   "id": "903cfbf5-d6e7-4473-85f3-21f890ff0cd9",
   "metadata": {},
   "outputs": [],
   "source": [
    "# Generate predictions \n",
    "forcast = model.predict(future)"
   ]
  },
  {
   "cell_type": "code",
   "execution_count": 54,
   "id": "577d9b2b-a77b-47a1-b462-f7fcc6b0436f",
   "metadata": {},
   "outputs": [
    {
     "data": {
      "image/png": "[encoded data removed]",
      "text/plain": [
       "<Figure size 1000x600 with 1 Axes>"
      ]
     },
     "metadata": {},
     "output_type": "display_data"
    }
   ],
   "source": [
    "#Plot the forecast\n",
    "fig = model.plot(forcast)"
   ]
  },
  {
   "cell_type": "code",
   "execution_count": null,
   "id": "00ddb5f1-eec0-4425-a100-bc6b7578f9f7",
   "metadata": {
    "jupyter": {
     "source_hidden": true
    },
    "tags": []
   },
   "outputs": [],
   "source": []
  },
  {
   "cell_type": "code",
   "execution_count": 55,
   "id": "a744f050-3a11-421f-8ff2-f7565a42bb7e",
   "metadata": {},
   "outputs": [],
   "source": [
    "# Calculate daily returns for the synthetic portfolio\n",
    "syn_close_df['returns'] = syn_close_df['y'].pct_change()"
   ]
  },
  {
   "cell_type": "code",
   "execution_count": 56,
   "id": "b28e7609-78e7-47da-9cec-70d5cf9720a1",
   "metadata": {},
   "outputs": [],
   "source": [
    "# Remove first row containing NaN\n",
    "syn_close_df.dropna(inplace=True)"
   ]
  },
  {
   "cell_type": "code",
   "execution_count": 57,
   "id": "e1148574-e07b-45d0-91b6-d4a18c55f361",
   "metadata": {},
   "outputs": [],
   "source": [
    "#convert the index into a datetime type\n",
    "syn_close_df.index = pd.to_datetime(syn_close_df.index)"
   ]
  },
  {
   "cell_type": "code",
   "execution_count": 58,
   "id": "203f0429-0c18-4faf-9f56-ff9ecb1a9931",
   "metadata": {},
   "outputs": [],
   "source": [
    "# Calculate the daily returns as a series \n",
    "returns = syn_close_df['returns']"
   ]
  },
  {
   "cell_type": "code",
   "execution_count": 59,
   "id": "268edf1a-aaeb-4cbf-b734-7f62d06391f0",
   "metadata": {},
   "outputs": [
    {
     "data": {
      "text/html": [
       "<table border=\"1\" class=\"dataframe\">\n",
       "  <thead>\n",
       "    <tr style=\"text-align: right;\"><th>Start date</th><td colspan=2>1970-01-01</td></tr>\n",
       "    <tr style=\"text-align: right;\"><th>End date</th><td colspan=2>1970-01-01</td></tr>\n",
       "    <tr style=\"text-align: right;\"><th>Total months</th><td colspan=2>35</td></tr>\n",
       "    <tr style=\"text-align: right;\">\n",
       "      <th></th>\n",
       "      <th>Backtest</th>\n",
       "    </tr>\n",
       "  </thead>\n",
       "  <tbody>\n",
       "    <tr>\n",
       "      <th>Annual return</th>\n",
       "      <td>22.0%</td>\n",
       "    </tr>\n",
       "    <tr>\n",
       "      <th>Cumulative returns</th>\n",
       "      <td>81.4%</td>\n",
       "    </tr>\n",
       "    <tr>\n",
       "      <th>Annual volatility</th>\n",
       "      <td>29.9%</td>\n",
       "    </tr>\n",
       "    <tr>\n",
       "      <th>Sharpe ratio</th>\n",
       "      <td>0.81</td>\n",
       "    </tr>\n",
       "    <tr>\n",
       "      <th>Calmar ratio</th>\n",
       "      <td>0.68</td>\n",
       "    </tr>\n",
       "    <tr>\n",
       "      <th>Stability</th>\n",
       "      <td>0.43</td>\n",
       "    </tr>\n",
       "    <tr>\n",
       "      <th>Max drawdown</th>\n",
       "      <td>-32.2%</td>\n",
       "    </tr>\n",
       "    <tr>\n",
       "      <th>Omega ratio</th>\n",
       "      <td>1.15</td>\n",
       "    </tr>\n",
       "    <tr>\n",
       "      <th>Sortino ratio</th>\n",
       "      <td>1.25</td>\n",
       "    </tr>\n",
       "    <tr>\n",
       "      <th>Skew</th>\n",
       "      <td>0.33</td>\n",
       "    </tr>\n",
       "    <tr>\n",
       "      <th>Kurtosis</th>\n",
       "      <td>2.49</td>\n",
       "    </tr>\n",
       "    <tr>\n",
       "      <th>Tail ratio</th>\n",
       "      <td>1.04</td>\n",
       "    </tr>\n",
       "    <tr>\n",
       "      <th>Daily value at risk</th>\n",
       "      <td>-3.7%</td>\n",
       "    </tr>\n",
       "  </tbody>\n",
       "</table>"
      ],
      "text/plain": [
       "<IPython.core.display.HTML object>"
      ]
     },
     "metadata": {},
     "output_type": "display_data"
    },
    {
     "ename": "AttributeError",
     "evalue": "'numpy.int64' object has no attribute 'to_pydatetime'",
     "output_type": "error",
     "traceback": [
      "\u001b[0;31m---------------------------------------------------------------------------\u001b[0m",
      "\u001b[0;31mAttributeError\u001b[0m                            Traceback (most recent call last)",
      "\u001b[0;32m/var/folders/s0/j7c8fls519q5xcddfy92rb7c0000gn/T/ipykernel_36010/753911698.py\u001b[0m in \u001b[0;36m<module>\u001b[0;34m\u001b[0m\n\u001b[1;32m      1\u001b[0m \u001b[0;31m# create a performance tearsheet\u001b[0m\u001b[0;34m\u001b[0m\u001b[0;34m\u001b[0m\u001b[0;34m\u001b[0m\u001b[0m\n\u001b[0;32m----> 2\u001b[0;31m \u001b[0mpf\u001b[0m\u001b[0;34m.\u001b[0m\u001b[0mcreate_full_tear_sheet\u001b[0m\u001b[0;34m(\u001b[0m\u001b[0mreturns\u001b[0m\u001b[0;34m)\u001b[0m\u001b[0;34m\u001b[0m\u001b[0;34m\u001b[0m\u001b[0m\n\u001b[0m",
      "\u001b[0;32m~/opt/anaconda3/envs/dev/lib/python3.7/site-packages/pyfolio/tears.py\u001b[0m in \u001b[0;36mcreate_full_tear_sheet\u001b[0;34m(returns, positions, transactions, market_data, benchmark_rets, slippage, live_start_date, sector_mappings, bayesian, round_trips, estimate_intraday, hide_positions, cone_std, bootstrap, unadjusted_returns, style_factor_panel, sectors, caps, shares_held, volumes, percentile, turnover_denom, set_context, factor_returns, factor_loadings, pos_in_dollars, header_rows, factor_partitions)\u001b[0m\n\u001b[1;32m    209\u001b[0m         \u001b[0mturnover_denom\u001b[0m\u001b[0;34m=\u001b[0m\u001b[0mturnover_denom\u001b[0m\u001b[0;34m,\u001b[0m\u001b[0;34m\u001b[0m\u001b[0;34m\u001b[0m\u001b[0m\n\u001b[1;32m    210\u001b[0m         \u001b[0mheader_rows\u001b[0m\u001b[0;34m=\u001b[0m\u001b[0mheader_rows\u001b[0m\u001b[0;34m,\u001b[0m\u001b[0;34m\u001b[0m\u001b[0;34m\u001b[0m\u001b[0m\n\u001b[0;32m--> 211\u001b[0;31m         set_context=set_context)\n\u001b[0m\u001b[1;32m    212\u001b[0m \u001b[0;34m\u001b[0m\u001b[0m\n\u001b[1;32m    213\u001b[0m     create_interesting_times_tear_sheet(returns,\n",
      "\u001b[0;32m~/opt/anaconda3/envs/dev/lib/python3.7/site-packages/pyfolio/plotting.py\u001b[0m in \u001b[0;36mcall_w_context\u001b[0;34m(*args, **kwargs)\u001b[0m\n\u001b[1;32m     50\u001b[0m         \u001b[0;32mif\u001b[0m \u001b[0mset_context\u001b[0m\u001b[0;34m:\u001b[0m\u001b[0;34m\u001b[0m\u001b[0;34m\u001b[0m\u001b[0m\n\u001b[1;32m     51\u001b[0m             \u001b[0;32mwith\u001b[0m \u001b[0mplotting_context\u001b[0m\u001b[0;34m(\u001b[0m\u001b[0;34m)\u001b[0m\u001b[0;34m,\u001b[0m \u001b[0maxes_style\u001b[0m\u001b[0;34m(\u001b[0m\u001b[0;34m)\u001b[0m\u001b[0;34m:\u001b[0m\u001b[0;34m\u001b[0m\u001b[0;34m\u001b[0m\u001b[0m\n\u001b[0;32m---> 52\u001b[0;31m                 \u001b[0;32mreturn\u001b[0m \u001b[0mfunc\u001b[0m\u001b[0;34m(\u001b[0m\u001b[0;34m*\u001b[0m\u001b[0margs\u001b[0m\u001b[0;34m,\u001b[0m \u001b[0;34m**\u001b[0m\u001b[0mkwargs\u001b[0m\u001b[0;34m)\u001b[0m\u001b[0;34m\u001b[0m\u001b[0;34m\u001b[0m\u001b[0m\n\u001b[0m\u001b[1;32m     53\u001b[0m         \u001b[0;32melse\u001b[0m\u001b[0;34m:\u001b[0m\u001b[0;34m\u001b[0m\u001b[0;34m\u001b[0m\u001b[0m\n\u001b[1;32m     54\u001b[0m             \u001b[0;32mreturn\u001b[0m \u001b[0mfunc\u001b[0m\u001b[0;34m(\u001b[0m\u001b[0;34m*\u001b[0m\u001b[0margs\u001b[0m\u001b[0;34m,\u001b[0m \u001b[0;34m**\u001b[0m\u001b[0mkwargs\u001b[0m\u001b[0;34m)\u001b[0m\u001b[0;34m\u001b[0m\u001b[0;34m\u001b[0m\u001b[0m\n",
      "\u001b[0;32m~/opt/anaconda3/envs/dev/lib/python3.7/site-packages/pyfolio/tears.py\u001b[0m in \u001b[0;36mcreate_returns_tear_sheet\u001b[0;34m(returns, positions, transactions, live_start_date, cone_std, benchmark_rets, bootstrap, turnover_denom, header_rows, return_fig)\u001b[0m\n\u001b[1;32m    502\u001b[0m                              header_rows=header_rows)\n\u001b[1;32m    503\u001b[0m \u001b[0;34m\u001b[0m\u001b[0m\n\u001b[0;32m--> 504\u001b[0;31m     \u001b[0mplotting\u001b[0m\u001b[0;34m.\u001b[0m\u001b[0mshow_worst_drawdown_periods\u001b[0m\u001b[0;34m(\u001b[0m\u001b[0mreturns\u001b[0m\u001b[0;34m)\u001b[0m\u001b[0;34m\u001b[0m\u001b[0;34m\u001b[0m\u001b[0m\n\u001b[0m\u001b[1;32m    505\u001b[0m \u001b[0;34m\u001b[0m\u001b[0m\n\u001b[1;32m    506\u001b[0m     \u001b[0mvertical_sections\u001b[0m \u001b[0;34m=\u001b[0m \u001b[0;36m11\u001b[0m\u001b[0;34m\u001b[0m\u001b[0;34m\u001b[0m\u001b[0m\n",
      "\u001b[0;32m~/opt/anaconda3/envs/dev/lib/python3.7/site-packages/pyfolio/plotting.py\u001b[0m in \u001b[0;36mshow_worst_drawdown_periods\u001b[0;34m(returns, top)\u001b[0m\n\u001b[1;32m   1662\u001b[0m     \"\"\"\n\u001b[1;32m   1663\u001b[0m \u001b[0;34m\u001b[0m\u001b[0m\n\u001b[0;32m-> 1664\u001b[0;31m     \u001b[0mdrawdown_df\u001b[0m \u001b[0;34m=\u001b[0m \u001b[0mtimeseries\u001b[0m\u001b[0;34m.\u001b[0m\u001b[0mgen_drawdown_table\u001b[0m\u001b[0;34m(\u001b[0m\u001b[0mreturns\u001b[0m\u001b[0;34m,\u001b[0m \u001b[0mtop\u001b[0m\u001b[0;34m=\u001b[0m\u001b[0mtop\u001b[0m\u001b[0;34m)\u001b[0m\u001b[0;34m\u001b[0m\u001b[0;34m\u001b[0m\u001b[0m\n\u001b[0m\u001b[1;32m   1665\u001b[0m     utils.print_table(\n\u001b[1;32m   1666\u001b[0m         \u001b[0mdrawdown_df\u001b[0m\u001b[0;34m.\u001b[0m\u001b[0msort_values\u001b[0m\u001b[0;34m(\u001b[0m\u001b[0;34m'Net drawdown in %'\u001b[0m\u001b[0;34m,\u001b[0m \u001b[0mascending\u001b[0m\u001b[0;34m=\u001b[0m\u001b[0;32mFalse\u001b[0m\u001b[0;34m)\u001b[0m\u001b[0;34m,\u001b[0m\u001b[0;34m\u001b[0m\u001b[0;34m\u001b[0m\u001b[0m\n",
      "\u001b[0;32m~/opt/anaconda3/envs/dev/lib/python3.7/site-packages/pyfolio/timeseries.py\u001b[0m in \u001b[0;36mgen_drawdown_table\u001b[0;34m(returns, top)\u001b[0m\n\u001b[1;32m   1006\u001b[0m         df_drawdowns.loc[i, 'Peak date'] = (peak.to_pydatetime()\n\u001b[1;32m   1007\u001b[0m                                             .strftime('%Y-%m-%d'))\n\u001b[0;32m-> 1008\u001b[0;31m         df_drawdowns.loc[i, 'Valley date'] = (valley.to_pydatetime()\n\u001b[0m\u001b[1;32m   1009\u001b[0m                                               .strftime('%Y-%m-%d'))\n\u001b[1;32m   1010\u001b[0m         \u001b[0;32mif\u001b[0m \u001b[0misinstance\u001b[0m\u001b[0;34m(\u001b[0m\u001b[0mrecovery\u001b[0m\u001b[0;34m,\u001b[0m \u001b[0mfloat\u001b[0m\u001b[0;34m)\u001b[0m\u001b[0;34m:\u001b[0m\u001b[0;34m\u001b[0m\u001b[0;34m\u001b[0m\u001b[0m\n",
      "\u001b[0;31mAttributeError\u001b[0m: 'numpy.int64' object has no attribute 'to_pydatetime'"
     ]
    }
   ],
   "source": [
    "# create a performance tearsheet\n",
    "pf.create_full_tear_sheet(returns)"
   ]
  },
  {
   "cell_type": "code",
   "execution_count": null,
   "id": "c3248510-6037-4f4f-b432-e1260a21d2ed",
   "metadata": {},
   "outputs": [],
   "source": []
  },
  {
   "cell_type": "code",
   "execution_count": null,
   "id": "52b23b19-a605-4100-8fce-e2a830ae7d94",
   "metadata": {},
   "outputs": [],
   "source": []
  }
 ],
 "metadata": {
  "kernelspec": {
   "display_name": "Python (dev)",
   "language": "python",
   "name": "dev"
  },
  "language_info": {
   "codemirror_mode": {
    "name": "ipython",
    "version": 3
   },
   "file_extension": ".py",
   "mimetype": "text/x-python",
   "name": "python",
   "nbconvert_exporter": "python",
   "pygments_lexer": "ipython3",
   "version": "3.7.13"
  }
 },
 "nbformat": 4,
 "nbformat_minor": 5
}
