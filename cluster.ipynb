{
 "cells": [
  {
   "cell_type": "code",
   "execution_count": 161,
   "id": "519f002e-e8a9-41b8-ad8b-2768434c1140",
   "metadata": {},
   "outputs": [],
   "source": [
    "%matplotlib inline\n",
    "import pandas as pd\n",
    "import numpy as np\n",
    "import hvplot.pandas\n",
    "from sklearn.cluster import KMeans\n",
    "from sklearn.preprocessing import StandardScaler\n",
    "\n",
    "from data_plugin_for_julio import get_bigb_data, get_benchmark_cluster_data, get_bank_etf_cluster_data\n",
    "\n",
    "bigb_df, bigb_trading_df, bigb_cluster_df = get_bigb_data()\n",
    "bank_etf_cluster_df = get_bank_etf_cluster_data()\n",
    "benchmark_cluster_df = get_benchmark_cluster_data()"
   ]
  },
  {
   "cell_type": "markdown",
   "id": "2e43c357-237d-450c-ad20-5baadda2bed2",
   "metadata": {},
   "source": [
    "# BIGB Only"
   ]
  },
  {
   "cell_type": "code",
   "execution_count": 162,
   "id": "8ac4e60a-0e23-4326-9801-9a8fcf30acc0",
   "metadata": {
    "tags": []
   },
   "outputs": [
    {
     "name": "stdout",
     "output_type": "stream",
     "text": [
      "    k       inertia\n",
      "0   1  3.975479e+18\n",
      "1   2  1.551805e+18\n",
      "2   3  7.779098e+17\n",
      "3   4  4.788585e+17\n",
      "4   5  3.274916e+17\n",
      "5   6  2.236848e+17\n",
      "6   7  1.620954e+17\n",
      "7   8  1.260429e+17\n",
      "8   9  9.408013e+16\n",
      "9  10  7.591304e+16\n",
      "[3.9754794027358106e+18, 1.5518049340134065e+18, 7.779098103624872e+17, 4.788584725655837e+17, 3.274915758150737e+17, 2.2368476041858413e+17, 1.6209539955672538e+17, 1.2604291040377515e+17, 9.4080125705521e+16, 7.591303677709077e+16]\n"
     ]
    },
    {
     "data": {},
     "metadata": {},
     "output_type": "display_data"
    },
    {
     "data": {
      "application/vnd.holoviews_exec.v0+json": "",
      "text/html": [
       "<div id='17658'>\n",
       "  <div class=\"bk-root\" id=\"02db24da-9ba5-4195-973d-15aa1e3d8318\" data-root-id=\"17658\"></div>\n",
       "</div>\n",
       "<script type=\"application/javascript\">(function(root) {\n",
       "  function embed_document(root) {\n",
       "    var docs_json = {\"0b386a75-5fa6-4b7f-814b-4793832723d8\":{\"defs\":[{\"extends\":null,\"module\":null,\"name\":\"ReactiveHTML1\",\"overrides\":[],\"properties\":[]},{\"extends\":null,\"module\":null,\"name\":\"FlexBox1\",\"overrides\":[],\"properties\":[{\"default\":\"flex-start\",\"kind\":null,\"name\":\"align_content\"},{\"default\":\"flex-start\",\"kind\":null,\"name\":\"align_items\"},{\"default\":\"row\",\"kind\":null,\"name\":\"flex_direction\"},{\"default\":\"wrap\",\"kind\":null,\"name\":\"flex_wrap\"},{\"default\":\"flex-start\",\"kind\":null,\"name\":\"justify_content\"}]},{\"extends\":null,\"module\":null,\"name\":\"GridStack1\",\"overrides\":[],\"properties\":[{\"default\":\"warn\",\"kind\":null,\"name\":\"mode\"},{\"default\":null,\"kind\":null,\"name\":\"ncols\"},{\"default\":null,\"kind\":null,\"name\":\"nrows\"},{\"default\":true,\"kind\":null,\"name\":\"allow_resize\"},{\"default\":true,\"kind\":null,\"name\":\"allow_drag\"},{\"default\":[],\"kind\":null,\"name\":\"state\"}]},{\"extends\":null,\"module\":null,\"name\":\"click1\",\"overrides\":[],\"properties\":[{\"default\":\"\",\"kind\":null,\"name\":\"terminal_output\"},{\"default\":\"\",\"kind\":null,\"name\":\"debug_name\"},{\"default\":0,\"kind\":null,\"name\":\"clears\"}]},{\"extends\":null,\"module\":null,\"name\":\"NotificationAreaBase1\",\"overrides\":[],\"properties\":[{\"default\":\"bottom-right\",\"kind\":null,\"name\":\"position\"},{\"default\":0,\"kind\":null,\"name\":\"_clear\"}]},{\"extends\":null,\"module\":null,\"name\":\"NotificationArea1\",\"overrides\":[],\"properties\":[{\"default\":[],\"kind\":null,\"name\":\"notifications\"},{\"default\":\"bottom-right\",\"kind\":null,\"name\":\"position\"},{\"default\":0,\"kind\":null,\"name\":\"_clear\"},{\"default\":[{\"background\":\"#ffc107\",\"icon\":{\"className\":\"fas fa-exclamation-triangle\",\"color\":\"white\",\"tagName\":\"i\"},\"type\":\"warning\"},{\"background\":\"#007bff\",\"icon\":{\"className\":\"fas fa-info-circle\",\"color\":\"white\",\"tagName\":\"i\"},\"type\":\"info\"}],\"kind\":null,\"name\":\"types\"}]},{\"extends\":null,\"module\":null,\"name\":\"Notification\",\"overrides\":[],\"properties\":[{\"default\":null,\"kind\":null,\"name\":\"background\"},{\"default\":3000,\"kind\":null,\"name\":\"duration\"},{\"default\":null,\"kind\":null,\"name\":\"icon\"},{\"default\":\"\",\"kind\":null,\"name\":\"message\"},{\"default\":null,\"kind\":null,\"name\":\"notification_type\"},{\"default\":false,\"kind\":null,\"name\":\"_destroyed\"}]},{\"extends\":null,\"module\":null,\"name\":\"TemplateActions1\",\"overrides\":[],\"properties\":[{\"default\":0,\"kind\":null,\"name\":\"open_modal\"},{\"default\":0,\"kind\":null,\"name\":\"close_modal\"}]},{\"extends\":null,\"module\":null,\"name\":\"MaterialTemplateActions1\",\"overrides\":[],\"properties\":[{\"default\":0,\"kind\":null,\"name\":\"open_modal\"},{\"default\":0,\"kind\":null,\"name\":\"close_modal\"}]}],\"roots\":{\"references\":[{\"attributes\":{},\"id\":\"17682\",\"type\":\"WheelZoomTool\"},{\"attributes\":{\"axis_label\":\"inertia\",\"coordinates\":null,\"formatter\":{\"id\":\"17709\"},\"group\":null,\"major_label_policy\":{\"id\":\"17710\"},\"ticker\":{\"id\":\"17677\"}},\"id\":\"17676\",\"type\":\"LinearAxis\"},{\"attributes\":{},\"id\":\"17677\",\"type\":\"BasicTicker\"},{\"attributes\":{},\"id\":\"17670\",\"type\":\"LinearScale\"},{\"attributes\":{\"coordinates\":null,\"group\":null,\"text\":\"BIGB Elbow Curve\",\"text_color\":\"black\",\"text_font_size\":\"12pt\"},\"id\":\"17664\",\"type\":\"Title\"},{\"attributes\":{\"tools\":[{\"id\":\"17662\"},{\"id\":\"17680\"},{\"id\":\"17681\"},{\"id\":\"17682\"},{\"id\":\"17683\"},{\"id\":\"17684\"}]},\"id\":\"17686\",\"type\":\"Toolbar\"},{\"attributes\":{},\"id\":\"17680\",\"type\":\"SaveTool\"},{\"attributes\":{\"ticks\":[1,2,3,4,5,6,7,8,9,10]},\"id\":\"17702\",\"type\":\"FixedTicker\"},{\"attributes\":{\"line_color\":\"#30a2da\",\"line_width\":2,\"x\":{\"field\":\"k\"},\"y\":{\"field\":\"inertia\"}},\"id\":\"17696\",\"type\":\"Line\"},{\"attributes\":{},\"id\":\"17668\",\"type\":\"LinearScale\"},{\"attributes\":{\"overlay\":{\"id\":\"17685\"}},\"id\":\"17683\",\"type\":\"BoxZoomTool\"},{\"attributes\":{},\"id\":\"17718\",\"type\":\"UnionRenderers\"},{\"attributes\":{\"line_color\":\"#30a2da\",\"line_width\":2,\"x\":{\"field\":\"k\"},\"y\":{\"field\":\"inertia\"}},\"id\":\"17701\",\"type\":\"Line\"},{\"attributes\":{\"axis\":{\"id\":\"17676\"},\"coordinates\":null,\"dimension\":1,\"group\":null,\"ticker\":{\"id\":\"17677\"}},\"id\":\"17679\",\"type\":\"Grid\"},{\"attributes\":{\"line_alpha\":0.2,\"line_color\":\"#30a2da\",\"line_width\":2,\"x\":{\"field\":\"k\"},\"y\":{\"field\":\"inertia\"}},\"id\":\"17698\",\"type\":\"Line\"},{\"attributes\":{},\"id\":\"17709\",\"type\":\"BasicTickFormatter\"},{\"attributes\":{\"children\":[{\"id\":\"17659\"},{\"id\":\"17663\"},{\"id\":\"17721\"}],\"margin\":[0,0,0,0],\"name\":\"Row14294\",\"tags\":[\"embedded\"]},\"id\":\"17658\",\"type\":\"Row\"},{\"attributes\":{\"line_alpha\":0.1,\"line_color\":\"#30a2da\",\"line_width\":2,\"x\":{\"field\":\"k\"},\"y\":{\"field\":\"inertia\"}},\"id\":\"17697\",\"type\":\"Line\"},{\"attributes\":{},\"id\":\"17705\",\"type\":\"AllLabels\"},{\"attributes\":{\"end\":4.3654360393316823e+18,\"reset_end\":4.3654360393316823e+18,\"reset_start\":-3.1404359981878125e+17,\"start\":-3.1404359981878125e+17,\"tags\":[[[\"inertia\",\"inertia\",null]]]},\"id\":\"17661\",\"type\":\"Range1d\"},{\"attributes\":{\"coordinates\":null,\"data_source\":{\"id\":\"17693\"},\"glyph\":{\"id\":\"17696\"},\"group\":null,\"hover_glyph\":null,\"muted_glyph\":{\"id\":\"17698\"},\"nonselection_glyph\":{\"id\":\"17697\"},\"selection_glyph\":{\"id\":\"17701\"},\"view\":{\"id\":\"17700\"}},\"id\":\"17699\",\"type\":\"GlyphRenderer\"},{\"attributes\":{\"axis\":{\"id\":\"17672\"},\"coordinates\":null,\"group\":null,\"ticker\":{\"id\":\"17702\"}},\"id\":\"17675\",\"type\":\"Grid\"},{\"attributes\":{\"data\":{\"inertia\":{\"__ndarray__\":\"nPkVut6Vy0NNkZxdHom1QyPls7Nhl6VDvdSL+fyUmkO/j41p7y2SQzJY89WA1YhD1G2yQQf/gUOrLFG/tfx7Q3agkQPW43RD7bZuEyjbcEM=\",\"dtype\":\"float64\",\"order\":\"little\",\"shape\":[10]},\"k\":[1,2,3,4,5,6,7,8,9,10]},\"selected\":{\"id\":\"17694\"},\"selection_policy\":{\"id\":\"17718\"}},\"id\":\"17693\",\"type\":\"ColumnDataSource\"},{\"attributes\":{\"margin\":[5,5,5,5],\"name\":\"HSpacer14298\",\"sizing_mode\":\"stretch_width\"},\"id\":\"17659\",\"type\":\"Spacer\"},{\"attributes\":{\"end\":10.0,\"reset_end\":10.0,\"reset_start\":1.0,\"start\":1.0,\"tags\":[[[\"k\",\"k\",null]]]},\"id\":\"17660\",\"type\":\"Range1d\"},{\"attributes\":{\"source\":{\"id\":\"17693\"}},\"id\":\"17700\",\"type\":\"CDSView\"},{\"attributes\":{},\"id\":\"17710\",\"type\":\"AllLabels\"},{\"attributes\":{},\"id\":\"17704\",\"type\":\"BasicTickFormatter\"},{\"attributes\":{\"callback\":null,\"renderers\":[{\"id\":\"17699\"}],\"tags\":[\"hv_created\"],\"tooltips\":[[\"k\",\"@{k}\"],[\"inertia\",\"@{inertia}\"]]},\"id\":\"17662\",\"type\":\"HoverTool\"},{\"attributes\":{\"bottom_units\":\"screen\",\"coordinates\":null,\"fill_alpha\":0.5,\"fill_color\":\"lightgrey\",\"group\":null,\"left_units\":\"screen\",\"level\":\"overlay\",\"line_alpha\":1.0,\"line_color\":\"black\",\"line_dash\":[4,4],\"line_width\":2,\"right_units\":\"screen\",\"syncable\":false,\"top_units\":\"screen\"},\"id\":\"17685\",\"type\":\"BoxAnnotation\"},{\"attributes\":{\"margin\":[5,5,5,5],\"name\":\"HSpacer14299\",\"sizing_mode\":\"stretch_width\"},\"id\":\"17721\",\"type\":\"Spacer\"},{\"attributes\":{},\"id\":\"17681\",\"type\":\"PanTool\"},{\"attributes\":{},\"id\":\"17694\",\"type\":\"Selection\"},{\"attributes\":{},\"id\":\"17684\",\"type\":\"ResetTool\"},{\"attributes\":{\"below\":[{\"id\":\"17672\"}],\"center\":[{\"id\":\"17675\"},{\"id\":\"17679\"}],\"height\":400,\"left\":[{\"id\":\"17676\"}],\"margin\":[5,5,5,5],\"min_border_bottom\":10,\"min_border_left\":10,\"min_border_right\":10,\"min_border_top\":10,\"renderers\":[{\"id\":\"17699\"}],\"sizing_mode\":\"fixed\",\"title\":{\"id\":\"17664\"},\"toolbar\":{\"id\":\"17686\"},\"x_range\":{\"id\":\"17660\"},\"x_scale\":{\"id\":\"17668\"},\"y_range\":{\"id\":\"17661\"},\"y_scale\":{\"id\":\"17670\"}},\"id\":\"17663\",\"subtype\":\"Figure\",\"type\":\"Plot\"},{\"attributes\":{\"axis_label\":\"k\",\"coordinates\":null,\"formatter\":{\"id\":\"17704\"},\"group\":null,\"major_label_policy\":{\"id\":\"17705\"},\"ticker\":{\"id\":\"17702\"}},\"id\":\"17672\",\"type\":\"LinearAxis\"}],\"root_ids\":[\"17658\"]},\"title\":\"Bokeh Application\",\"version\":\"2.4.3\"}};\n",
       "    var render_items = [{\"docid\":\"0b386a75-5fa6-4b7f-814b-4793832723d8\",\"root_ids\":[\"17658\"],\"roots\":{\"17658\":\"02db24da-9ba5-4195-973d-15aa1e3d8318\"}}];\n",
       "    root.Bokeh.embed.embed_items_notebook(docs_json, render_items);\n",
       "  }\n",
       "  if (root.Bokeh !== undefined && root.Bokeh.Panel !== undefined) {\n",
       "    embed_document(root);\n",
       "  } else {\n",
       "    var attempts = 0;\n",
       "    var timer = setInterval(function(root) {\n",
       "      if (root.Bokeh !== undefined && root.Bokeh.Panel !== undefined) {\n",
       "        clearInterval(timer);\n",
       "        embed_document(root);\n",
       "      } else if (document.readyState == \"complete\") {\n",
       "        attempts++;\n",
       "        if (attempts > 200) {\n",
       "          clearInterval(timer);\n",
       "          console.log(\"Bokeh: ERROR: Unable to run BokehJS code because BokehJS library is missing\");\n",
       "        }\n",
       "      }\n",
       "    }, 25, root)\n",
       "  }\n",
       "})(window);</script>"
      ],
      "text/plain": [
       ":Curve   [k]   (inertia)"
      ]
     },
     "execution_count": 162,
     "metadata": {
      "application/vnd.holoviews_exec.v0+json": {
       "id": "17658"
      }
     },
     "output_type": "execute_result"
    }
   ],
   "source": [
    "# Remove missing values, replace infinite values, and fill NaN with mean\n",
    "bigb_df = bigb_df.replace([np.inf, -np.inf], np.nan).fillna(bigb_df.mean())\n",
    "\n",
    "# Create a list of k values and calculate inertia for each k\n",
    "inertia = []\n",
    "k = list(range(1, 11))\n",
    "for i in k:\n",
    "    model = KMeans(n_clusters=i, random_state=0)\n",
    "    model.fit(bigb_df)\n",
    "    inertia.append(model.inertia_)\n",
    "\n",
    "# Create elbow plot\n",
    "bigb_elbow_data = {\n",
    "    'k': k,\n",
    "    'inertia': inertia\n",
    "}\n",
    "bigb_elbow_data_df = pd.DataFrame(bigb_elbow_data)\n",
    "bigb_elbow_plot = bigb_elbow_data_df.hvplot.line(\n",
    "    x='k',\n",
    "    y='inertia',\n",
    "    title='BIGB Elbow Curve',\n",
    "    xticks=k\n",
    ")\n",
    "\n",
    "print(bigb_elbow_data_df)\n",
    "print(inertia)\n",
    "bigb_elbow_plot = bigb_elbow_plot.opts(width=600, height=400, show_grid=True)\n",
    "\n",
    "# Save the elbow plot as a PNG file in the \"images\" directory\n",
    "file_path = 'images/bigb_elbow_plot.png'\n",
    "hvplot.save(bigb_elbow_plot, file_path, fmt='png')\n",
    "bigb_elbow_plot\n"
   ]
  },
  {
   "cell_type": "markdown",
   "id": "55911645-1708-4094-86df-79242f74f2b2",
   "metadata": {},
   "source": [
    "# Benchmark Cluster"
   ]
  },
  {
   "cell_type": "code",
   "execution_count": 163,
   "id": "52eae552-bdc9-4191-af3a-9c3c11d7f22d",
   "metadata": {},
   "outputs": [
    {
     "data": {},
     "metadata": {},
     "output_type": "display_data"
    },
    {
     "data": {
      "application/vnd.holoviews_exec.v0+json": "",
      "text/html": [
       "<div id='18044'>\n",
       "  <div class=\"bk-root\" id=\"b0dca886-b774-41f6-b87a-a005460d3767\" data-root-id=\"18044\"></div>\n",
       "</div>\n",
       "<script type=\"application/javascript\">(function(root) {\n",
       "  function embed_document(root) {\n",
       "    var docs_json = {\"f7a56540-73ac-4fa5-ae86-7a9ae9c83255\":{\"defs\":[{\"extends\":null,\"module\":null,\"name\":\"ReactiveHTML1\",\"overrides\":[],\"properties\":[]},{\"extends\":null,\"module\":null,\"name\":\"FlexBox1\",\"overrides\":[],\"properties\":[{\"default\":\"flex-start\",\"kind\":null,\"name\":\"align_content\"},{\"default\":\"flex-start\",\"kind\":null,\"name\":\"align_items\"},{\"default\":\"row\",\"kind\":null,\"name\":\"flex_direction\"},{\"default\":\"wrap\",\"kind\":null,\"name\":\"flex_wrap\"},{\"default\":\"flex-start\",\"kind\":null,\"name\":\"justify_content\"}]},{\"extends\":null,\"module\":null,\"name\":\"GridStack1\",\"overrides\":[],\"properties\":[{\"default\":\"warn\",\"kind\":null,\"name\":\"mode\"},{\"default\":null,\"kind\":null,\"name\":\"ncols\"},{\"default\":null,\"kind\":null,\"name\":\"nrows\"},{\"default\":true,\"kind\":null,\"name\":\"allow_resize\"},{\"default\":true,\"kind\":null,\"name\":\"allow_drag\"},{\"default\":[],\"kind\":null,\"name\":\"state\"}]},{\"extends\":null,\"module\":null,\"name\":\"click1\",\"overrides\":[],\"properties\":[{\"default\":\"\",\"kind\":null,\"name\":\"terminal_output\"},{\"default\":\"\",\"kind\":null,\"name\":\"debug_name\"},{\"default\":0,\"kind\":null,\"name\":\"clears\"}]},{\"extends\":null,\"module\":null,\"name\":\"NotificationAreaBase1\",\"overrides\":[],\"properties\":[{\"default\":\"bottom-right\",\"kind\":null,\"name\":\"position\"},{\"default\":0,\"kind\":null,\"name\":\"_clear\"}]},{\"extends\":null,\"module\":null,\"name\":\"NotificationArea1\",\"overrides\":[],\"properties\":[{\"default\":[],\"kind\":null,\"name\":\"notifications\"},{\"default\":\"bottom-right\",\"kind\":null,\"name\":\"position\"},{\"default\":0,\"kind\":null,\"name\":\"_clear\"},{\"default\":[{\"background\":\"#ffc107\",\"icon\":{\"className\":\"fas fa-exclamation-triangle\",\"color\":\"white\",\"tagName\":\"i\"},\"type\":\"warning\"},{\"background\":\"#007bff\",\"icon\":{\"className\":\"fas fa-info-circle\",\"color\":\"white\",\"tagName\":\"i\"},\"type\":\"info\"}],\"kind\":null,\"name\":\"types\"}]},{\"extends\":null,\"module\":null,\"name\":\"Notification\",\"overrides\":[],\"properties\":[{\"default\":null,\"kind\":null,\"name\":\"background\"},{\"default\":3000,\"kind\":null,\"name\":\"duration\"},{\"default\":null,\"kind\":null,\"name\":\"icon\"},{\"default\":\"\",\"kind\":null,\"name\":\"message\"},{\"default\":null,\"kind\":null,\"name\":\"notification_type\"},{\"default\":false,\"kind\":null,\"name\":\"_destroyed\"}]},{\"extends\":null,\"module\":null,\"name\":\"TemplateActions1\",\"overrides\":[],\"properties\":[{\"default\":0,\"kind\":null,\"name\":\"open_modal\"},{\"default\":0,\"kind\":null,\"name\":\"close_modal\"}]},{\"extends\":null,\"module\":null,\"name\":\"MaterialTemplateActions1\",\"overrides\":[],\"properties\":[{\"default\":0,\"kind\":null,\"name\":\"open_modal\"},{\"default\":0,\"kind\":null,\"name\":\"close_modal\"}]}],\"roots\":{\"references\":[{\"attributes\":{},\"id\":\"18082\",\"type\":\"AllLabels\"},{\"attributes\":{},\"id\":\"18110\",\"type\":\"Selection\"},{\"attributes\":{},\"id\":\"18071\",\"type\":\"ResetTool\"},{\"attributes\":{\"margin\":[5,5,5,5],\"name\":\"HSpacer14514\",\"sizing_mode\":\"stretch_width\"},\"id\":\"18143\",\"type\":\"Spacer\"},{\"attributes\":{},\"id\":\"18067\",\"type\":\"SaveTool\"},{\"attributes\":{\"data\":{\"annual_return\":{\"__ndarray__\":\"mwZfTvgbzD+FffDa4sXSPyqTTr95+5e/\",\"dtype\":\"float64\",\"order\":\"little\",\"shape\":[3]},\"annual_volatility\":{\"__ndarray__\":\"IIZZ4orQ1D/t8zfmJjTbP1/AhoiG7uQ/\",\"dtype\":\"float64\",\"order\":\"little\",\"shape\":[3]},\"cluster_label\":[\"BIGB\",\"BIGB\",\"BIGB\"]},\"selected\":{\"id\":\"18089\"},\"selection_policy\":{\"id\":\"18103\"}},\"id\":\"18088\",\"type\":\"ColumnDataSource\"},{\"attributes\":{\"fill_alpha\":{\"value\":0.7},\"fill_color\":{\"value\":\"#fc4f30\"},\"hatch_alpha\":{\"value\":0.1},\"hatch_color\":{\"value\":\"#fc4f30\"},\"line_alpha\":{\"value\":0.7},\"line_color\":{\"value\":\"#fc4f30\"},\"size\":{\"value\":10.0},\"x\":{\"field\":\"annual_return\"},\"y\":{\"field\":\"annual_volatility\"}},\"id\":\"18113\",\"type\":\"Scatter\"},{\"attributes\":{\"coordinates\":null,\"data_source\":{\"id\":\"18088\"},\"glyph\":{\"id\":\"18091\"},\"group\":null,\"hover_glyph\":null,\"muted_glyph\":{\"id\":\"18093\"},\"nonselection_glyph\":{\"id\":\"18092\"},\"selection_glyph\":{\"id\":\"18108\"},\"view\":{\"id\":\"18095\"}},\"id\":\"18094\",\"type\":\"GlyphRenderer\"},{\"attributes\":{\"angle\":{\"value\":0.0},\"fill_alpha\":{\"value\":0.7},\"fill_color\":{\"value\":\"#fc4f30\"},\"hatch_alpha\":{\"value\":0.7},\"hatch_color\":{\"value\":\"#fc4f30\"},\"hatch_scale\":{\"value\":12.0},\"hatch_weight\":{\"value\":1.0},\"line_alpha\":{\"value\":0.7},\"line_cap\":{\"value\":\"butt\"},\"line_color\":{\"value\":\"#fc4f30\"},\"line_dash\":{\"value\":[]},\"line_dash_offset\":{\"value\":0},\"line_join\":{\"value\":\"bevel\"},\"line_width\":{\"value\":1},\"marker\":{\"value\":\"circle\"},\"size\":{\"value\":10.0},\"x\":{\"field\":\"annual_return\"},\"y\":{\"field\":\"annual_volatility\"}},\"id\":\"18130\",\"type\":\"Scatter\"},{\"attributes\":{},\"id\":\"18064\",\"type\":\"BasicTicker\"},{\"attributes\":{},\"id\":\"18060\",\"type\":\"BasicTicker\"},{\"attributes\":{\"overlay\":{\"id\":\"18072\"}},\"id\":\"18070\",\"type\":\"BoxZoomTool\"},{\"attributes\":{\"axis_label\":\"Annual Return\",\"coordinates\":null,\"formatter\":{\"id\":\"18081\"},\"group\":null,\"major_label_policy\":{\"id\":\"18082\"},\"ticker\":{\"id\":\"18060\"}},\"id\":\"18059\",\"type\":\"LinearAxis\"},{\"attributes\":{\"fill_alpha\":{\"value\":0.7},\"fill_color\":{\"value\":\"#30a2da\"},\"hatch_alpha\":{\"value\":0.7},\"hatch_color\":{\"value\":\"#30a2da\"},\"line_alpha\":{\"value\":0.7},\"line_color\":{\"value\":\"#30a2da\"},\"size\":{\"value\":10.0},\"x\":{\"field\":\"annual_return\"},\"y\":{\"field\":\"annual_volatility\"}},\"id\":\"18091\",\"type\":\"Scatter\"},{\"attributes\":{\"children\":[{\"id\":\"18045\"},{\"id\":\"18050\"},{\"id\":\"18143\"}],\"margin\":[0,0,0,0],\"name\":\"Row14509\",\"tags\":[\"embedded\"]},\"id\":\"18044\",\"type\":\"Row\"},{\"attributes\":{\"end\":0.711888823728969,\"reset_end\":0.711888823728969,\"reset_start\":0.018625557233964744,\"start\":0.018625557233964744,\"tags\":[[[\"annual_volatility\",\"annual_volatility\",null]]]},\"id\":\"18047\",\"type\":\"Range1d\"},{\"attributes\":{\"fill_alpha\":{\"value\":0.7},\"fill_color\":{\"value\":\"#30a2da\"},\"hatch_alpha\":{\"value\":0.1},\"hatch_color\":{\"value\":\"#30a2da\"},\"line_alpha\":{\"value\":0.7},\"line_color\":{\"value\":\"#30a2da\"},\"size\":{\"value\":10.0},\"x\":{\"field\":\"annual_return\"},\"y\":{\"field\":\"annual_volatility\"}},\"id\":\"18092\",\"type\":\"Scatter\"},{\"attributes\":{\"label\":{\"value\":\"Benchmark\"},\"renderers\":[{\"id\":\"18115\"}]},\"id\":\"18129\",\"type\":\"LegendItem\"},{\"attributes\":{\"margin\":[5,5,5,5],\"name\":\"HSpacer14513\",\"sizing_mode\":\"stretch_width\"},\"id\":\"18045\",\"type\":\"Spacer\"},{\"attributes\":{},\"id\":\"18069\",\"type\":\"WheelZoomTool\"},{\"attributes\":{},\"id\":\"18085\",\"type\":\"AllLabels\"},{\"attributes\":{\"end\":0.31986288452013234,\"reset_end\":0.31986288452013234,\"reset_start\":-0.1577648157420063,\"start\":-0.1577648157420063,\"tags\":[[[\"annual_return\",\"annual_return\",null]]]},\"id\":\"18046\",\"type\":\"Range1d\"},{\"attributes\":{\"fill_alpha\":{\"value\":0.2},\"fill_color\":{\"value\":\"#30a2da\"},\"hatch_alpha\":{\"value\":0.2},\"hatch_color\":{\"value\":\"#30a2da\"},\"line_alpha\":{\"value\":0.2},\"line_color\":{\"value\":\"#30a2da\"},\"size\":{\"value\":10.0},\"x\":{\"field\":\"annual_return\"},\"y\":{\"field\":\"annual_volatility\"}},\"id\":\"18093\",\"type\":\"Scatter\"},{\"attributes\":{\"source\":{\"id\":\"18109\"}},\"id\":\"18116\",\"type\":\"CDSView\"},{\"attributes\":{\"axis\":{\"id\":\"18063\"},\"coordinates\":null,\"dimension\":1,\"group\":null,\"ticker\":{\"id\":\"18064\"}},\"id\":\"18066\",\"type\":\"Grid\"},{\"attributes\":{\"axis_label\":\"Annual Volatility\",\"coordinates\":null,\"formatter\":{\"id\":\"18084\"},\"group\":null,\"major_label_policy\":{\"id\":\"18085\"},\"ticker\":{\"id\":\"18064\"}},\"id\":\"18063\",\"type\":\"LinearAxis\"},{\"attributes\":{\"angle\":{\"value\":0.0},\"fill_alpha\":{\"value\":0.7},\"fill_color\":{\"value\":\"#30a2da\"},\"hatch_alpha\":{\"value\":0.7},\"hatch_color\":{\"value\":\"#30a2da\"},\"hatch_scale\":{\"value\":12.0},\"hatch_weight\":{\"value\":1.0},\"line_alpha\":{\"value\":0.7},\"line_cap\":{\"value\":\"butt\"},\"line_color\":{\"value\":\"#30a2da\"},\"line_dash\":{\"value\":[]},\"line_dash_offset\":{\"value\":0},\"line_join\":{\"value\":\"bevel\"},\"line_width\":{\"value\":1},\"marker\":{\"value\":\"circle\"},\"size\":{\"value\":10.0},\"x\":{\"field\":\"annual_return\"},\"y\":{\"field\":\"annual_volatility\"}},\"id\":\"18108\",\"type\":\"Scatter\"},{\"attributes\":{\"fill_alpha\":{\"value\":0.2},\"fill_color\":{\"value\":\"#fc4f30\"},\"hatch_alpha\":{\"value\":0.2},\"hatch_color\":{\"value\":\"#fc4f30\"},\"line_alpha\":{\"value\":0.2},\"line_color\":{\"value\":\"#fc4f30\"},\"size\":{\"value\":10.0},\"x\":{\"field\":\"annual_return\"},\"y\":{\"field\":\"annual_volatility\"}},\"id\":\"18114\",\"type\":\"Scatter\"},{\"attributes\":{},\"id\":\"18089\",\"type\":\"Selection\"},{\"attributes\":{\"coordinates\":null,\"data_source\":{\"id\":\"18109\"},\"glyph\":{\"id\":\"18112\"},\"group\":null,\"hover_glyph\":null,\"muted_glyph\":{\"id\":\"18114\"},\"nonselection_glyph\":{\"id\":\"18113\"},\"selection_glyph\":{\"id\":\"18130\"},\"view\":{\"id\":\"18116\"}},\"id\":\"18115\",\"type\":\"GlyphRenderer\"},{\"attributes\":{\"data\":{\"annual_return\":{\"__ndarray__\":\"Gl/BOIaEuD8OLfowFbfDP80zUY0aecc/Ng4wG+38wT8k7pzZgRXFPxvlEobQKr0/EHTN8sSorz9eMM6NJMzAv1/E00oAn6+/QGmvLNOCq7+qW+0vArCUvxNqU1UazbA/vmAkeWSNwz8g/13QoqvGP48Xh2fKGdE/6pa21w0aor/c/QWH6tvGPyDMeCuBibE/\",\"dtype\":\"float64\",\"order\":\"little\",\"shape\":[18]},\"annual_volatility\":{\"__ndarray__\":\"4/E7UKMfzT9SSuKYytLIP9H0lHM9UNA/35Cm5oyIxj8ow7R5LazQP9aoAKOo48c//9ISyUWvyj+X3nkemEXFPxtSSEvJjrM/EHRrYA43tz/AHNk9FM+3P92KdH4RmcM/7whMuuycwT94zCwam1zMP/uQjUgygcs/IDuiuqIJ1T+oHDBp3dDKPwRVET4sRsY/\",\"dtype\":\"float64\",\"order\":\"little\",\"shape\":[18]},\"cluster_label\":[\"Benchmark\",\"Benchmark\",\"Benchmark\",\"Benchmark\",\"Benchmark\",\"Benchmark\",\"Benchmark\",\"Benchmark\",\"Benchmark\",\"Benchmark\",\"Benchmark\",\"Benchmark\",\"Benchmark\",\"Benchmark\",\"Benchmark\",\"Benchmark\",\"Benchmark\",\"Benchmark\"]},\"selected\":{\"id\":\"18110\"},\"selection_policy\":{\"id\":\"18126\"}},\"id\":\"18109\",\"type\":\"ColumnDataSource\"},{\"attributes\":{},\"id\":\"18068\",\"type\":\"PanTool\"},{\"attributes\":{\"axis\":{\"id\":\"18059\"},\"coordinates\":null,\"group\":null,\"ticker\":{\"id\":\"18060\"}},\"id\":\"18062\",\"type\":\"Grid\"},{\"attributes\":{},\"id\":\"18103\",\"type\":\"UnionRenderers\"},{\"attributes\":{\"tools\":[{\"id\":\"18048\"},{\"id\":\"18067\"},{\"id\":\"18068\"},{\"id\":\"18069\"},{\"id\":\"18070\"},{\"id\":\"18071\"}]},\"id\":\"18073\",\"type\":\"Toolbar\"},{\"attributes\":{\"below\":[{\"id\":\"18059\"}],\"center\":[{\"id\":\"18062\"},{\"id\":\"18066\"},{\"id\":\"18106\"}],\"height\":500,\"left\":[{\"id\":\"18063\"}],\"margin\":[5,5,5,5],\"min_border_bottom\":10,\"min_border_left\":10,\"min_border_right\":10,\"min_border_top\":10,\"renderers\":[{\"id\":\"18094\"},{\"id\":\"18115\"}],\"sizing_mode\":\"fixed\",\"title\":{\"id\":\"18051\"},\"toolbar\":{\"id\":\"18073\"},\"width\":800,\"x_range\":{\"id\":\"18046\"},\"x_scale\":{\"id\":\"18055\"},\"y_range\":{\"id\":\"18047\"},\"y_scale\":{\"id\":\"18057\"}},\"id\":\"18050\",\"subtype\":\"Figure\",\"type\":\"Plot\"},{\"attributes\":{\"callback\":null,\"renderers\":[{\"id\":\"18094\"},{\"id\":\"18115\"}],\"tags\":[\"hv_created\"],\"tooltips\":[[\"cluster_label\",\"@{cluster_label}\"],[\"annual_return\",\"@{annual_return}\"],[\"annual_volatility\",\"@{annual_volatility}\"]]},\"id\":\"18048\",\"type\":\"HoverTool\"},{\"attributes\":{},\"id\":\"18057\",\"type\":\"LinearScale\"},{\"attributes\":{},\"id\":\"18055\",\"type\":\"LinearScale\"},{\"attributes\":{\"bottom_units\":\"screen\",\"coordinates\":null,\"fill_alpha\":0.5,\"fill_color\":\"lightgrey\",\"group\":null,\"left_units\":\"screen\",\"level\":\"overlay\",\"line_alpha\":1.0,\"line_color\":\"black\",\"line_dash\":[4,4],\"line_width\":2,\"right_units\":\"screen\",\"syncable\":false,\"top_units\":\"screen\"},\"id\":\"18072\",\"type\":\"BoxAnnotation\"},{\"attributes\":{\"source\":{\"id\":\"18088\"}},\"id\":\"18095\",\"type\":\"CDSView\"},{\"attributes\":{},\"id\":\"18084\",\"type\":\"BasicTickFormatter\"},{\"attributes\":{},\"id\":\"18081\",\"type\":\"BasicTickFormatter\"},{\"attributes\":{\"label\":{\"value\":\"BIGB\"},\"renderers\":[{\"id\":\"18094\"}]},\"id\":\"18107\",\"type\":\"LegendItem\"},{\"attributes\":{},\"id\":\"18126\",\"type\":\"UnionRenderers\"},{\"attributes\":{\"click_policy\":\"mute\",\"coordinates\":null,\"group\":null,\"items\":[{\"id\":\"18107\"},{\"id\":\"18129\"}],\"location\":\"top_left\",\"title\":\"cluster_label\"},\"id\":\"18106\",\"type\":\"Legend\"},{\"attributes\":{\"fill_alpha\":{\"value\":0.7},\"fill_color\":{\"value\":\"#fc4f30\"},\"hatch_alpha\":{\"value\":0.7},\"hatch_color\":{\"value\":\"#fc4f30\"},\"line_alpha\":{\"value\":0.7},\"line_color\":{\"value\":\"#fc4f30\"},\"size\":{\"value\":10.0},\"x\":{\"field\":\"annual_return\"},\"y\":{\"field\":\"annual_volatility\"}},\"id\":\"18112\",\"type\":\"Scatter\"},{\"attributes\":{\"coordinates\":null,\"group\":null,\"text\":\"Benchmark\",\"text_color\":\"black\",\"text_font_size\":\"12pt\"},\"id\":\"18051\",\"type\":\"Title\"}],\"root_ids\":[\"18044\"]},\"title\":\"Bokeh Application\",\"version\":\"2.4.3\"}};\n",
       "    var render_items = [{\"docid\":\"f7a56540-73ac-4fa5-ae86-7a9ae9c83255\",\"root_ids\":[\"18044\"],\"roots\":{\"18044\":\"b0dca886-b774-41f6-b87a-a005460d3767\"}}];\n",
       "    root.Bokeh.embed.embed_items_notebook(docs_json, render_items);\n",
       "  }\n",
       "  if (root.Bokeh !== undefined && root.Bokeh.Panel !== undefined) {\n",
       "    embed_document(root);\n",
       "  } else {\n",
       "    var attempts = 0;\n",
       "    var timer = setInterval(function(root) {\n",
       "      if (root.Bokeh !== undefined && root.Bokeh.Panel !== undefined) {\n",
       "        clearInterval(timer);\n",
       "        embed_document(root);\n",
       "      } else if (document.readyState == \"complete\") {\n",
       "        attempts++;\n",
       "        if (attempts > 200) {\n",
       "          clearInterval(timer);\n",
       "          console.log(\"Bokeh: ERROR: Unable to run BokehJS code because BokehJS library is missing\");\n",
       "        }\n",
       "      }\n",
       "    }, 25, root)\n",
       "  }\n",
       "})(window);</script>"
      ],
      "text/plain": [
       ":NdOverlay   [cluster_label]\n",
       "   :Scatter   [annual_return]   (annual_volatility)"
      ]
     },
     "execution_count": 163,
     "metadata": {
      "application/vnd.holoviews_exec.v0+json": {
       "id": "18044"
      }
     },
     "output_type": "execute_result"
    }
   ],
   "source": [
    "# Concatenate BIGB and Benchmark DataFrames into a single DataFrame\n",
    "benchmark_cluster = pd.concat([bigb_cluster_df, benchmark_cluster_df])\n",
    "\n",
    "# Preprocess the data\n",
    "benchmark_cluster = benchmark_cluster.replace([np.inf, -np.inf], np.nan).fillna(benchmark_cluster.mean())\n",
    "\n",
    "# Apply the KMeans algorithm to find clusters\n",
    "# Choose the optimal number of clusters \n",
    "n_clusters = 2\n",
    "kmeans = KMeans(n_clusters=n_clusters, random_state=0)\n",
    "benchmark_cluster['cluster'] = kmeans.fit_predict(benchmark_cluster[['annual_return', 'annual_volatility']])\n",
    "\n",
    "import hvplot.pandas\n",
    "\n",
    "# Create a dictionary to map cluster numbers to their labels\n",
    "cluster_labels = {\n",
    "    0: 'BIGB',\n",
    "    1: 'Benchmark'\n",
    "}\n",
    "\n",
    "# Map cluster numbers to their labels\n",
    "benchmark_cluster['cluster_label'] = benchmark_cluster['cluster'].map(cluster_labels)\n",
    "\n",
    "# Create a scatter plot using hvplot\n",
    "benchmark_scatter_plot = benchmark_cluster.hvplot.scatter(\n",
    "    x='annual_return',\n",
    "    y='annual_volatility',\n",
    "    by='cluster_label',\n",
    "    cmap='Category10',\n",
    "    legend='top_left',\n",
    "    title='Benchmark',\n",
    "    xlabel='Annual Return',\n",
    "    ylabel='Annual Volatility',\n",
    "    alpha=0.7,\n",
    "    size=100,\n",
    "    hover=True\n",
    ")\n",
    "file_path = 'images/benchmark_scatter_plot.png'\n",
    "hvplot.save(benchmark_scatter_plot, file_path, fmt='png')\n",
    "benchmark_scatter_plot.opts(width=800, height=500, show_grid=True)"
   ]
  },
  {
   "cell_type": "markdown",
   "id": "43717572-ecb5-4923-9f88-2e1e60b57662",
   "metadata": {},
   "source": [
    "# Bank ETF Cluster"
   ]
  },
  {
   "cell_type": "code",
   "execution_count": 164,
   "id": "d102a505-1957-4f14-8675-dc5a6ab2fa9b",
   "metadata": {},
   "outputs": [
    {
     "data": {},
     "metadata": {},
     "output_type": "display_data"
    },
    {
     "data": {
      "application/vnd.holoviews_exec.v0+json": "",
      "text/html": [
       "<div id='18481'>\n",
       "  <div class=\"bk-root\" id=\"965fe5a0-5fbf-4d3e-a79b-5b4b7478c121\" data-root-id=\"18481\"></div>\n",
       "</div>\n",
       "<script type=\"application/javascript\">(function(root) {\n",
       "  function embed_document(root) {\n",
       "    var docs_json = {\"0c56c3fc-00af-41eb-b260-e6b523bc9117\":{\"defs\":[{\"extends\":null,\"module\":null,\"name\":\"ReactiveHTML1\",\"overrides\":[],\"properties\":[]},{\"extends\":null,\"module\":null,\"name\":\"FlexBox1\",\"overrides\":[],\"properties\":[{\"default\":\"flex-start\",\"kind\":null,\"name\":\"align_content\"},{\"default\":\"flex-start\",\"kind\":null,\"name\":\"align_items\"},{\"default\":\"row\",\"kind\":null,\"name\":\"flex_direction\"},{\"default\":\"wrap\",\"kind\":null,\"name\":\"flex_wrap\"},{\"default\":\"flex-start\",\"kind\":null,\"name\":\"justify_content\"}]},{\"extends\":null,\"module\":null,\"name\":\"GridStack1\",\"overrides\":[],\"properties\":[{\"default\":\"warn\",\"kind\":null,\"name\":\"mode\"},{\"default\":null,\"kind\":null,\"name\":\"ncols\"},{\"default\":null,\"kind\":null,\"name\":\"nrows\"},{\"default\":true,\"kind\":null,\"name\":\"allow_resize\"},{\"default\":true,\"kind\":null,\"name\":\"allow_drag\"},{\"default\":[],\"kind\":null,\"name\":\"state\"}]},{\"extends\":null,\"module\":null,\"name\":\"click1\",\"overrides\":[],\"properties\":[{\"default\":\"\",\"kind\":null,\"name\":\"terminal_output\"},{\"default\":\"\",\"kind\":null,\"name\":\"debug_name\"},{\"default\":0,\"kind\":null,\"name\":\"clears\"}]},{\"extends\":null,\"module\":null,\"name\":\"NotificationAreaBase1\",\"overrides\":[],\"properties\":[{\"default\":\"bottom-right\",\"kind\":null,\"name\":\"position\"},{\"default\":0,\"kind\":null,\"name\":\"_clear\"}]},{\"extends\":null,\"module\":null,\"name\":\"NotificationArea1\",\"overrides\":[],\"properties\":[{\"default\":[],\"kind\":null,\"name\":\"notifications\"},{\"default\":\"bottom-right\",\"kind\":null,\"name\":\"position\"},{\"default\":0,\"kind\":null,\"name\":\"_clear\"},{\"default\":[{\"background\":\"#ffc107\",\"icon\":{\"className\":\"fas fa-exclamation-triangle\",\"color\":\"white\",\"tagName\":\"i\"},\"type\":\"warning\"},{\"background\":\"#007bff\",\"icon\":{\"className\":\"fas fa-info-circle\",\"color\":\"white\",\"tagName\":\"i\"},\"type\":\"info\"}],\"kind\":null,\"name\":\"types\"}]},{\"extends\":null,\"module\":null,\"name\":\"Notification\",\"overrides\":[],\"properties\":[{\"default\":null,\"kind\":null,\"name\":\"background\"},{\"default\":3000,\"kind\":null,\"name\":\"duration\"},{\"default\":null,\"kind\":null,\"name\":\"icon\"},{\"default\":\"\",\"kind\":null,\"name\":\"message\"},{\"default\":null,\"kind\":null,\"name\":\"notification_type\"},{\"default\":false,\"kind\":null,\"name\":\"_destroyed\"}]},{\"extends\":null,\"module\":null,\"name\":\"TemplateActions1\",\"overrides\":[],\"properties\":[{\"default\":0,\"kind\":null,\"name\":\"open_modal\"},{\"default\":0,\"kind\":null,\"name\":\"close_modal\"}]},{\"extends\":null,\"module\":null,\"name\":\"MaterialTemplateActions1\",\"overrides\":[],\"properties\":[{\"default\":0,\"kind\":null,\"name\":\"open_modal\"},{\"default\":0,\"kind\":null,\"name\":\"close_modal\"}]}],\"roots\":{\"references\":[{\"attributes\":{\"label\":{\"value\":\"Bank_ETF\"},\"renderers\":[{\"id\":\"18552\"}]},\"id\":\"18566\",\"type\":\"LegendItem\"},{\"attributes\":{\"coordinates\":null,\"data_source\":{\"id\":\"18546\"},\"glyph\":{\"id\":\"18549\"},\"group\":null,\"hover_glyph\":null,\"muted_glyph\":{\"id\":\"18551\"},\"nonselection_glyph\":{\"id\":\"18550\"},\"selection_glyph\":{\"id\":\"18567\"},\"view\":{\"id\":\"18553\"}},\"id\":\"18552\",\"type\":\"GlyphRenderer\"},{\"attributes\":{\"source\":{\"id\":\"18525\"}},\"id\":\"18532\",\"type\":\"CDSView\"},{\"attributes\":{\"fill_alpha\":{\"value\":0.7},\"fill_color\":{\"value\":\"#fc4f30\"},\"hatch_alpha\":{\"value\":0.7},\"hatch_color\":{\"value\":\"#fc4f30\"},\"line_alpha\":{\"value\":0.7},\"line_color\":{\"value\":\"#fc4f30\"},\"size\":{\"value\":10.0},\"x\":{\"field\":\"annual_return\"},\"y\":{\"field\":\"annual_volatility\"}},\"id\":\"18549\",\"type\":\"Scatter\"},{\"attributes\":{\"fill_alpha\":{\"value\":0.7},\"fill_color\":{\"value\":\"#30a2da\"},\"hatch_alpha\":{\"value\":0.7},\"hatch_color\":{\"value\":\"#30a2da\"},\"line_alpha\":{\"value\":0.7},\"line_color\":{\"value\":\"#30a2da\"},\"size\":{\"value\":10.0},\"x\":{\"field\":\"annual_return\"},\"y\":{\"field\":\"annual_volatility\"}},\"id\":\"18528\",\"type\":\"Scatter\"},{\"attributes\":{},\"id\":\"18563\",\"type\":\"UnionRenderers\"},{\"attributes\":{},\"id\":\"18494\",\"type\":\"LinearScale\"},{\"attributes\":{\"angle\":{\"value\":0.0},\"fill_alpha\":{\"value\":0.7},\"fill_color\":{\"value\":\"#fc4f30\"},\"hatch_alpha\":{\"value\":0.7},\"hatch_color\":{\"value\":\"#fc4f30\"},\"hatch_scale\":{\"value\":12.0},\"hatch_weight\":{\"value\":1.0},\"line_alpha\":{\"value\":0.7},\"line_cap\":{\"value\":\"butt\"},\"line_color\":{\"value\":\"#fc4f30\"},\"line_dash\":{\"value\":[]},\"line_dash_offset\":{\"value\":0},\"line_join\":{\"value\":\"bevel\"},\"line_width\":{\"value\":1},\"marker\":{\"value\":\"circle\"},\"size\":{\"value\":10.0},\"x\":{\"field\":\"annual_return\"},\"y\":{\"field\":\"annual_volatility\"}},\"id\":\"18567\",\"type\":\"Scatter\"},{\"attributes\":{\"margin\":[5,5,5,5],\"name\":\"HSpacer14751\",\"sizing_mode\":\"stretch_width\"},\"id\":\"18482\",\"type\":\"Spacer\"},{\"attributes\":{\"margin\":[5,5,5,5],\"name\":\"HSpacer14752\",\"sizing_mode\":\"stretch_width\"},\"id\":\"18580\",\"type\":\"Spacer\"},{\"attributes\":{\"click_policy\":\"mute\",\"coordinates\":null,\"group\":null,\"items\":[{\"id\":\"18544\"},{\"id\":\"18566\"}],\"location\":\"top_left\",\"title\":\"cluster_label\"},\"id\":\"18543\",\"type\":\"Legend\"},{\"attributes\":{\"data\":{\"annual_return\":{\"__ndarray__\":\"xeOewDuLwz/TFwAQsoHDPyjmhcEAkcE/etN73NpVwT/vNHB3WS7DPweD0hdovsA/deC1oB4owz8Q92uk1uqvP0qDFqfZTsI/wNLiNlmmuT9FuibsYmK1P7BI6i3VsKm/Eo2YpG6NxT/XUyXBEAzQP206BJQLa8g/pWFB+sCcvz++oGO8qOnDP7CAaSO2ssQ/Es3SxUvzxD8=\",\"dtype\":\"float64\",\"order\":\"little\",\"shape\":[19]},\"annual_volatility\":{\"__ndarray__\":\"dm6e9vd60j+qHZlvUyvPP23lEQ6mH9Y/EZFccpWt1z+0AS4U6P7PP0i0zC3wls0/kijFcKz5zz8cuIOiJpK9P8Hpl9L8gMw/k/Htl4L21T8+kDFa7KfQP0Zj5EvIh60/OjBcq+7/0D+/R87B85rcP/R5cketes4/l1dbok201D+OQYgfN/rNP/f5rx0v+NY/YLUmIPzjzT8=\",\"dtype\":\"float64\",\"order\":\"little\",\"shape\":[19]},\"cluster_label\":[\"BIGB\",\"BIGB\",\"BIGB\",\"BIGB\",\"BIGB\",\"BIGB\",\"BIGB\",\"BIGB\",\"BIGB\",\"BIGB\",\"BIGB\",\"BIGB\",\"BIGB\",\"BIGB\",\"BIGB\",\"BIGB\",\"BIGB\",\"BIGB\",\"BIGB\"]},\"selected\":{\"id\":\"18526\"},\"selection_policy\":{\"id\":\"18540\"}},\"id\":\"18525\",\"type\":\"ColumnDataSource\"},{\"attributes\":{\"overlay\":{\"id\":\"18509\"}},\"id\":\"18507\",\"type\":\"BoxZoomTool\"},{\"attributes\":{},\"id\":\"18501\",\"type\":\"BasicTicker\"},{\"attributes\":{\"end\":0.5263328506902002,\"reset_end\":0.5263328506902002,\"reset_start\":-0.08408961064019796,\"start\":-0.08408961064019796,\"tags\":[[[\"annual_return\",\"annual_return\",null]]]},\"id\":\"18483\",\"type\":\"Range1d\"},{\"attributes\":{},\"id\":\"18526\",\"type\":\"Selection\"},{\"attributes\":{\"angle\":{\"value\":0.0},\"fill_alpha\":{\"value\":0.7},\"fill_color\":{\"value\":\"#30a2da\"},\"hatch_alpha\":{\"value\":0.7},\"hatch_color\":{\"value\":\"#30a2da\"},\"hatch_scale\":{\"value\":12.0},\"hatch_weight\":{\"value\":1.0},\"line_alpha\":{\"value\":0.7},\"line_cap\":{\"value\":\"butt\"},\"line_color\":{\"value\":\"#30a2da\"},\"line_dash\":{\"value\":[]},\"line_dash_offset\":{\"value\":0},\"line_join\":{\"value\":\"bevel\"},\"line_width\":{\"value\":1},\"marker\":{\"value\":\"circle\"},\"size\":{\"value\":10.0},\"x\":{\"field\":\"annual_return\"},\"y\":{\"field\":\"annual_volatility\"}},\"id\":\"18545\",\"type\":\"Scatter\"},{\"attributes\":{\"children\":[{\"id\":\"18482\"},{\"id\":\"18487\"},{\"id\":\"18580\"}],\"margin\":[0,0,0,0],\"name\":\"Row14747\",\"tags\":[\"embedded\"]},\"id\":\"18481\",\"type\":\"Row\"},{\"attributes\":{\"end\":0.7599825291694935,\"reset_end\":0.7599825291694935,\"reset_start\":-0.006169434403185778,\"start\":-0.006169434403185778,\"tags\":[[[\"annual_volatility\",\"annual_volatility\",null]]]},\"id\":\"18484\",\"type\":\"Range1d\"},{\"attributes\":{\"fill_alpha\":{\"value\":0.2},\"fill_color\":{\"value\":\"#30a2da\"},\"hatch_alpha\":{\"value\":0.2},\"hatch_color\":{\"value\":\"#30a2da\"},\"line_alpha\":{\"value\":0.2},\"line_color\":{\"value\":\"#30a2da\"},\"size\":{\"value\":10.0},\"x\":{\"field\":\"annual_return\"},\"y\":{\"field\":\"annual_volatility\"}},\"id\":\"18530\",\"type\":\"Scatter\"},{\"attributes\":{\"data\":{\"annual_return\":{\"__ndarray__\":\"8Vz2PNGD3z8=\",\"dtype\":\"float64\",\"order\":\"little\",\"shape\":[1]},\"annual_volatility\":{\"__ndarray__\":\"i+XrHsBG5j8=\",\"dtype\":\"float64\",\"order\":\"little\",\"shape\":[1]},\"cluster_label\":[\"Bank_ETF\"]},\"selected\":{\"id\":\"18547\"},\"selection_policy\":{\"id\":\"18563\"}},\"id\":\"18546\",\"type\":\"ColumnDataSource\"},{\"attributes\":{\"fill_alpha\":{\"value\":0.7},\"fill_color\":{\"value\":\"#fc4f30\"},\"hatch_alpha\":{\"value\":0.1},\"hatch_color\":{\"value\":\"#fc4f30\"},\"line_alpha\":{\"value\":0.7},\"line_color\":{\"value\":\"#fc4f30\"},\"size\":{\"value\":10.0},\"x\":{\"field\":\"annual_return\"},\"y\":{\"field\":\"annual_volatility\"}},\"id\":\"18550\",\"type\":\"Scatter\"},{\"attributes\":{\"below\":[{\"id\":\"18496\"}],\"center\":[{\"id\":\"18499\"},{\"id\":\"18503\"},{\"id\":\"18543\"}],\"height\":500,\"left\":[{\"id\":\"18500\"}],\"margin\":[5,5,5,5],\"min_border_bottom\":10,\"min_border_left\":10,\"min_border_right\":10,\"min_border_top\":10,\"renderers\":[{\"id\":\"18531\"},{\"id\":\"18552\"}],\"sizing_mode\":\"fixed\",\"title\":{\"id\":\"18488\"},\"toolbar\":{\"id\":\"18510\"},\"width\":800,\"x_range\":{\"id\":\"18483\"},\"x_scale\":{\"id\":\"18492\"},\"y_range\":{\"id\":\"18484\"},\"y_scale\":{\"id\":\"18494\"}},\"id\":\"18487\",\"subtype\":\"Figure\",\"type\":\"Plot\"},{\"attributes\":{},\"id\":\"18505\",\"type\":\"PanTool\"},{\"attributes\":{\"coordinates\":null,\"group\":null,\"text\":\"Bank ETF\",\"text_color\":\"black\",\"text_font_size\":\"12pt\"},\"id\":\"18488\",\"type\":\"Title\"},{\"attributes\":{},\"id\":\"18504\",\"type\":\"SaveTool\"},{\"attributes\":{},\"id\":\"18547\",\"type\":\"Selection\"},{\"attributes\":{\"bottom_units\":\"screen\",\"coordinates\":null,\"fill_alpha\":0.5,\"fill_color\":\"lightgrey\",\"group\":null,\"left_units\":\"screen\",\"level\":\"overlay\",\"line_alpha\":1.0,\"line_color\":\"black\",\"line_dash\":[4,4],\"line_width\":2,\"right_units\":\"screen\",\"syncable\":false,\"top_units\":\"screen\"},\"id\":\"18509\",\"type\":\"BoxAnnotation\"},{\"attributes\":{\"axis_label\":\"Annual Return\",\"coordinates\":null,\"formatter\":{\"id\":\"18518\"},\"group\":null,\"major_label_policy\":{\"id\":\"18519\"},\"ticker\":{\"id\":\"18497\"}},\"id\":\"18496\",\"type\":\"LinearAxis\"},{\"attributes\":{\"coordinates\":null,\"data_source\":{\"id\":\"18525\"},\"glyph\":{\"id\":\"18528\"},\"group\":null,\"hover_glyph\":null,\"muted_glyph\":{\"id\":\"18530\"},\"nonselection_glyph\":{\"id\":\"18529\"},\"selection_glyph\":{\"id\":\"18545\"},\"view\":{\"id\":\"18532\"}},\"id\":\"18531\",\"type\":\"GlyphRenderer\"},{\"attributes\":{},\"id\":\"18497\",\"type\":\"BasicTicker\"},{\"attributes\":{},\"id\":\"18519\",\"type\":\"AllLabels\"},{\"attributes\":{\"label\":{\"value\":\"BIGB\"},\"renderers\":[{\"id\":\"18531\"}]},\"id\":\"18544\",\"type\":\"LegendItem\"},{\"attributes\":{\"axis\":{\"id\":\"18500\"},\"coordinates\":null,\"dimension\":1,\"group\":null,\"ticker\":{\"id\":\"18501\"}},\"id\":\"18503\",\"type\":\"Grid\"},{\"attributes\":{\"source\":{\"id\":\"18546\"}},\"id\":\"18553\",\"type\":\"CDSView\"},{\"attributes\":{\"fill_alpha\":{\"value\":0.2},\"fill_color\":{\"value\":\"#fc4f30\"},\"hatch_alpha\":{\"value\":0.2},\"hatch_color\":{\"value\":\"#fc4f30\"},\"line_alpha\":{\"value\":0.2},\"line_color\":{\"value\":\"#fc4f30\"},\"size\":{\"value\":10.0},\"x\":{\"field\":\"annual_return\"},\"y\":{\"field\":\"annual_volatility\"}},\"id\":\"18551\",\"type\":\"Scatter\"},{\"attributes\":{},\"id\":\"18522\",\"type\":\"AllLabels\"},{\"attributes\":{\"axis\":{\"id\":\"18496\"},\"coordinates\":null,\"group\":null,\"ticker\":{\"id\":\"18497\"}},\"id\":\"18499\",\"type\":\"Grid\"},{\"attributes\":{\"callback\":null,\"renderers\":[{\"id\":\"18531\"},{\"id\":\"18552\"}],\"tags\":[\"hv_created\"],\"tooltips\":[[\"cluster_label\",\"@{cluster_label}\"],[\"annual_return\",\"@{annual_return}\"],[\"annual_volatility\",\"@{annual_volatility}\"]]},\"id\":\"18485\",\"type\":\"HoverTool\"},{\"attributes\":{},\"id\":\"18540\",\"type\":\"UnionRenderers\"},{\"attributes\":{\"fill_alpha\":{\"value\":0.7},\"fill_color\":{\"value\":\"#30a2da\"},\"hatch_alpha\":{\"value\":0.1},\"hatch_color\":{\"value\":\"#30a2da\"},\"line_alpha\":{\"value\":0.7},\"line_color\":{\"value\":\"#30a2da\"},\"size\":{\"value\":10.0},\"x\":{\"field\":\"annual_return\"},\"y\":{\"field\":\"annual_volatility\"}},\"id\":\"18529\",\"type\":\"Scatter\"},{\"attributes\":{},\"id\":\"18508\",\"type\":\"ResetTool\"},{\"attributes\":{\"axis_label\":\"Annual Volatility\",\"coordinates\":null,\"formatter\":{\"id\":\"18521\"},\"group\":null,\"major_label_policy\":{\"id\":\"18522\"},\"ticker\":{\"id\":\"18501\"}},\"id\":\"18500\",\"type\":\"LinearAxis\"},{\"attributes\":{},\"id\":\"18492\",\"type\":\"LinearScale\"},{\"attributes\":{},\"id\":\"18506\",\"type\":\"WheelZoomTool\"},{\"attributes\":{},\"id\":\"18521\",\"type\":\"BasicTickFormatter\"},{\"attributes\":{\"tools\":[{\"id\":\"18485\"},{\"id\":\"18504\"},{\"id\":\"18505\"},{\"id\":\"18506\"},{\"id\":\"18507\"},{\"id\":\"18508\"}]},\"id\":\"18510\",\"type\":\"Toolbar\"},{\"attributes\":{},\"id\":\"18518\",\"type\":\"BasicTickFormatter\"}],\"root_ids\":[\"18481\"]},\"title\":\"Bokeh Application\",\"version\":\"2.4.3\"}};\n",
       "    var render_items = [{\"docid\":\"0c56c3fc-00af-41eb-b260-e6b523bc9117\",\"root_ids\":[\"18481\"],\"roots\":{\"18481\":\"965fe5a0-5fbf-4d3e-a79b-5b4b7478c121\"}}];\n",
       "    root.Bokeh.embed.embed_items_notebook(docs_json, render_items);\n",
       "  }\n",
       "  if (root.Bokeh !== undefined && root.Bokeh.Panel !== undefined) {\n",
       "    embed_document(root);\n",
       "  } else {\n",
       "    var attempts = 0;\n",
       "    var timer = setInterval(function(root) {\n",
       "      if (root.Bokeh !== undefined && root.Bokeh.Panel !== undefined) {\n",
       "        clearInterval(timer);\n",
       "        embed_document(root);\n",
       "      } else if (document.readyState == \"complete\") {\n",
       "        attempts++;\n",
       "        if (attempts > 200) {\n",
       "          clearInterval(timer);\n",
       "          console.log(\"Bokeh: ERROR: Unable to run BokehJS code because BokehJS library is missing\");\n",
       "        }\n",
       "      }\n",
       "    }, 25, root)\n",
       "  }\n",
       "})(window);</script>"
      ],
      "text/plain": [
       ":NdOverlay   [cluster_label]\n",
       "   :Scatter   [annual_return]   (annual_volatility)"
      ]
     },
     "execution_count": 164,
     "metadata": {
      "application/vnd.holoviews_exec.v0+json": {
       "id": "18481"
      }
     },
     "output_type": "execute_result"
    }
   ],
   "source": [
    "# Concatenate BIGB and Benchmark DataFrames into a single DataFrame\n",
    "bank_etf_cluster = pd.concat([bigb_cluster_df, bank_etf_cluster_df])\n",
    "\n",
    "# Preprocess the data\n",
    "bank_etf_cluster = bank_etf_cluster.replace([np.inf, -np.inf], np.nan).fillna(bank_etf_cluster.mean())\n",
    "\n",
    "# Apply the KMeans algorithm to find clusters\n",
    "# Choose the optimal number of clusters\n",
    "n_clusters = 2\n",
    "kmeans = KMeans(n_clusters=n_clusters, random_state=0)\n",
    "bank_etf_cluster['cluster'] = kmeans.fit_predict(bank_etf_cluster[['annual_return', 'annual_volatility']])\n",
    "\n",
    "import hvplot.pandas\n",
    "\n",
    "# Create a dictionary to map cluster numbers to their labels\n",
    "cluster_labels = {\n",
    "    0: 'BIGB',\n",
    "    1: 'Bank_ETF'\n",
    "}\n",
    "\n",
    "# Map cluster numbers to their labels\n",
    "bank_etf_cluster['cluster_label'] = bank_etf_cluster['cluster'].map(cluster_labels)\n",
    "\n",
    "# Create a scatter plot using hvplot\n",
    "bank_etf_scatter_plot = bank_etf_cluster.hvplot.scatter(\n",
    "    x='annual_return',\n",
    "    y='annual_volatility',\n",
    "    by='cluster_label',\n",
    "    cmap='Category10',\n",
    "    legend='top_left',\n",
    "    title='Bank ETF',\n",
    "    xlabel='Annual Return',\n",
    "    ylabel='Annual Volatility',\n",
    "    alpha=0.7,\n",
    "    size=100,\n",
    "    hover=True\n",
    ")\n",
    "file_path = 'images/bank_etf_scatter_plot.png'\n",
    "hvplot.save(bank_etf_scatter_plot, file_path, fmt='png')\n",
    "bank_etf_scatter_plot.opts(width=800, height=500, show_grid=True)"
   ]
  },
  {
   "cell_type": "code",
   "execution_count": null,
   "id": "bb9ae6d7-5049-4af0-9076-3ad4f80ab0dc",
   "metadata": {},
   "outputs": [],
   "source": []
  },
  {
   "cell_type": "code",
   "execution_count": null,
   "id": "50beeef3-660b-41bd-9144-c1a7ac7baf1a",
   "metadata": {},
   "outputs": [],
   "source": []
  }
 ],
 "metadata": {
  "kernelspec": {
   "display_name": "Python (dev)",
   "language": "python",
   "name": "dev"
  },
  "language_info": {
   "codemirror_mode": {
    "name": "ipython",
    "version": 3
   },
   "file_extension": ".py",
   "mimetype": "text/x-python",
   "name": "python",
   "nbconvert_exporter": "python",
   "pygments_lexer": "ipython3",
   "version": "3.7.13"
  }
 },
 "nbformat": 4,
 "nbformat_minor": 5
}
