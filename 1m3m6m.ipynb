{
 "cells": [
  {
   "cell_type": "code",
   "execution_count": 1,
   "id": "ffd8cd07-2ae0-49ea-85bb-fbd9a2568d66",
   "metadata": {},
   "outputs": [
    {
     "name": "stdout",
     "output_type": "stream",
     "text": [
      "Error fetching data for GS: 400\n",
      "Error fetching data for C: 400\n",
      "Error fetching data for MS: 400\n",
      "Error fetching data for JPM: 400\n",
      "Error fetching data for BAC: 400\n",
      "Error fetching data for WFC: 400\n",
      "Empty DataFrame\n",
      "Columns: []\n",
      "Index: []\n"
     ]
    }
   ],
   "source": [
    "import os\n",
    "import requests\n",
    "import pandas as pd\n",
    "from datetime import datetime, timedelta\n",
    "\n",
    "\n",
    "IEX_API_TOKEN = 'pk_8c8bff848e484ad89b66c46d29d4f42e'\n",
    "\n",
    "# List of 6 stock symbols\n",
    "stocks = ['GS', 'C', 'MS', 'JPM', 'BAC', 'WFC']\n",
    "\n",
    "# List of 100 ETF symbols (replace this with the actual symbols you want)\n",
    "etfs = ['SPY', 'QQQ', 'VTI', 'VWO', 'IEFA', 'EEM', 'IEMG', 'EFA', 'IJH', 'VOO'] * 10\n",
    "\n",
    "symbols = stocks # + etfs\n",
    "\n",
    "base_url = 'https://cloud.iexapis.com/stable/stock'\n",
    "\n",
    "# Define the date range\n",
    "date_range = '1m'  # Set this to '1m', '3m', or '6m' for 1-month, 3-month, or 6-month ranges\n",
    "\n",
    "end_date = datetime.now()\n",
    "if date_range == '1m':\n",
    "    start_date = end_date - timedelta(days=30)\n",
    "elif date_range == '3m':\n",
    "    start_date = end_date - timedelta(days=90)\n",
    "elif date_range == '6m':\n",
    "    start_date = end_date - timedelta(days=180)\n",
    "else:\n",
    "    raise ValueError(\"Invalid date range. Use '1m', '3m', or '6m'.\")\n",
    "\n",
    "start_date_str = start_date.strftime('%Y-%m-%d')\n",
    "end_date_str = end_date.strftime('%Y-%m-%d')\n",
    "\n",
    "data = []\n",
    "\n",
    "for symbol in symbols:\n",
    "    url = f'{base_url}/{symbol}/chart/range/1mm?token={IEX_API_TOKEN}&from={start_date_str}&to={end_date_str}&filter=date,open,close,high,low,volume'\n",
    "    response = requests.get(url)\n",
    "\n",
    "    if response.status_code == 200:\n",
    "        historical_data = response.json()\n",
    "        for daily_data in historical_data:\n",
    "            daily_data['symbol'] = symbol\n",
    "            data.append(daily_data)\n",
    "    else:\n",
    "        print(f'Error fetching data for {symbol}: {response.status_code}')\n",
    "\n",
    "df = pd.DataFrame(data)\n",
    "\n",
    "print(df)"
   ]
  }
 ],
 "metadata": {
  "kernelspec": {
   "display_name": "dev",
   "language": "python",
   "name": "dev"
  },
  "language_info": {
   "codemirror_mode": {
    "name": "ipython",
    "version": 3
   },
   "file_extension": ".py",
   "mimetype": "text/x-python",
   "name": "python",
   "nbconvert_exporter": "python",
   "pygments_lexer": "ipython3",
   "version": "3.10.4"
  }
 },
 "nbformat": 4,
 "nbformat_minor": 5
}
